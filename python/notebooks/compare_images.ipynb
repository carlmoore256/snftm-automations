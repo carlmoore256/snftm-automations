{
 "cells": [
  {
   "cell_type": "code",
   "execution_count": null,
   "metadata": {},
   "outputs": [],
   "source": [
    "import numpy as np\n",
    "import scipy\n",
    "from PIL import Image\n",
    "import json\n",
    "import requests\n",
    "import matplotlib.pyplot as plt"
   ]
  },
  {
   "cell_type": "code",
   "execution_count": null,
   "metadata": {},
   "outputs": [],
   "source": [
    "\n",
    "def compare_images(file1, file2):\n",
    "    image1 = np.array(Image.open(file1).resize((256, 256)).convert('L'))\n",
    "    image2 = np.array(Image.open(file2).resize((256, 256)).convert('L'))\n",
    "\n",
    "    fft1 = scipy.fft.fft2(image1)\n",
    "    fft2 = scipy.fft.fft2(image2)\n",
    "\n",
    "    diff = np.mean(np.abs(fft1 - fft2))\n",
    "\n",
    "    return diff"
   ]
  },
  {
   "cell_type": "code",
   "execution_count": null,
   "metadata": {},
   "outputs": [],
   "source": [
    "img1 = \"D:/SNFT_Pipeline/data/screenshots/example copy.png\"\n",
    "img2 = \"D:/SNFT_Pipeline/data/screenshots/example.png\"\n",
    "img3 = \"D:/SNFT_Pipeline/data/screenshots/test.png\"\n",
    "\n",
    "print(compare_images(img1, img2))\n",
    "print(compare_images(img1, img3))"
   ]
  },
  {
   "cell_type": "code",
   "execution_count": null,
   "metadata": {},
   "outputs": [],
   "source": [
    "with open(\"../../../data/artist-works-feb.json\") as f:\n",
    "    artist_works = json.load(f)\n",
    "print(artist_works)"
   ]
  },
  {
   "cell_type": "code",
   "execution_count": null,
   "metadata": {},
   "outputs": [],
   "source": [
    "artist_works = [w for w in artist_works if \"file_url\" in w]\n",
    "allowed_formats = [\".png\", \".jpg\", \".jpeg\"]\n",
    "\n",
    "for work in artist_works:\n",
    "    res = requests.head(work[\"file_url\"])\n",
    "    if res.status_code != 200:\n",
    "        print(f'{work[\"file_url\"]} NOT FOUND')\n",
    "        continue\n",
    "    content_type = res.headers.get('Content-Type')\n",
    "    if content_type.split(\"/\")[0] != \"image\":\n",
    "        print(f'Work: {work[\"work\"]} by {work[\"artist\"]} at {work[\"file_url\"]} is not an image')\n",
    "        continue"
   ]
  }
 ],
 "metadata": {
  "kernelspec": {
   "display_name": "Python 3",
   "language": "python",
   "name": "python3"
  },
  "language_info": {
   "codemirror_mode": {
    "name": "ipython",
    "version": 3
   },
   "file_extension": ".py",
   "mimetype": "text/x-python",
   "name": "python",
   "nbconvert_exporter": "python",
   "pygments_lexer": "ipython3",
   "version": "3.7.9"
  },
  "orig_nbformat": 4
 },
 "nbformat": 4,
 "nbformat_minor": 2
}
