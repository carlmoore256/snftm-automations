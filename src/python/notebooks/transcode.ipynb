{
 "cells": [
  {
   "cell_type": "code",
   "execution_count": null,
   "metadata": {},
   "outputs": [],
   "source": [
    "%load_ext autoreload\n",
    "%autoreload 2"
   ]
  },
  {
   "cell_type": "code",
   "execution_count": null,
   "metadata": {},
   "outputs": [],
   "source": [
    "import sys\n",
    "sys.path.append('..')\n",
    "\n",
    "from video.transcode import transcode_video\n",
    "from video.video_info import probe_video_metadata\n",
    "from video.filters import pad_center_native, pad_center_and_resize, rotate, repeat_until_duration\n",
    "from defaults import DEFAULT_RESOLUTION\n",
    "from files import create_output_path"
   ]
  },
  {
   "cell_type": "code",
   "execution_count": null,
   "metadata": {},
   "outputs": [],
   "source": [
    "input_file =  \"~/Documents/SNFTM/PizzaDAO/FinalSuperRareUpload.mp4\"\n",
    "\n",
    "transcode_video(\n",
    "    input_file,\n",
    "    output_file=create_output_path(input_file, '/Volumes/RICO_III/SNFTM/', prefix='PADDED_SCALED_', extension='mp4'),\n",
    "    filters=[\n",
    "        # lambda x: rotate(x, 90),\n",
    "        lambda x: pad_center_and_resize(x, DEFAULT_RESOLUTION, {'width': 1400, 'height': 2160}),\n",
    "        # lambda x: pad_center_native(x, DEFAULT_RESOLUTION),\n",
    "    ]\n",
    ")"
   ]
  },
  {
   "cell_type": "code",
   "execution_count": null,
   "metadata": {},
   "outputs": [],
   "source": [
    "import glob\n",
    "# from video.video_info import probe_video_metadata\n",
    "\n",
    "input_files = glob.glob(\"/Volumes/NO_NAME/sbdr/*.mov\") \n",
    "print(input_files)\n",
    "\n",
    "\n",
    "for file in input_files:\n",
    "    print(f'Transcoding {file}')\n",
    "    # calculate the width\n",
    "\n",
    "    info = probe_video_metadata(file)\n",
    "    ratio = info['height'] / info['width']\n",
    "\n",
    "    # resize the video height to 2160, calculate the width\n",
    "    width = int(2160 / ratio)\n",
    "\n",
    "    print(width)\n",
    "\n",
    "\n",
    "    # print(info)\n",
    "    transcode_video(\n",
    "        file,\n",
    "        output_file=create_output_path(file, '/Volumes/RICO_III/SNFTM/concat', prefix='PADDED_SCALED_', extension='mp4'),\n",
    "            filters=[\n",
    "                # lambda x: rotate(x, 90),\n",
    "                lambda x: pad_center_and_resize(x, DEFAULT_RESOLUTION, {'width':width, 'height': 2160}),\n",
    "                # lambda x: pad_center_native(x, DEFAULT_RESOLUTION),\n",
    "            ]\n",
    "        )\n"
   ]
  },
  {
   "attachments": {},
   "cell_type": "markdown",
   "metadata": {},
   "source": []
  },
  {
   "cell_type": "code",
   "execution_count": null,
   "metadata": {},
   "outputs": [],
   "source": [
    "input_file = '~/Downloads/955.mov'\n",
    "\n",
    "metadata = probe_video_metadata(input_file)\n",
    "\n",
    "print(metadata['width'], metadata['height'])"
   ]
  },
  {
   "cell_type": "code",
   "execution_count": null,
   "metadata": {},
   "outputs": [],
   "source": [
    "input_file = '~/Downloads/955.mov'\n",
    "\n",
    "transcode_video(\n",
    "    input_file,\n",
    "    filters=[\n",
    "        lambda x: rotate(x, 270),\n",
    "        lambda x: pad_center_native(x, DEFAULT_RESOLUTION),\n",
    "        # lambda x: repeat_until_duration()\n",
    "    ],\n",
    "    extension='.mp4',\n",
    "    profile=dict(\n",
    "        vcodec='libx264',\n",
    "        video_bitrate='30M',\n",
    "        level='4.0',\n",
    "    )\n",
    ")"
   ]
  },
  {
   "cell_type": "code",
   "execution_count": null,
   "metadata": {},
   "outputs": [],
   "source": [
    "# output_path(input_file, '/Volumes/CoD1/SNFT_Pipeline/data/transcoding/output', prefix='PADDED_SCALED_', extension='mp4')\n",
    "transcode_video(\n",
    "    input_file,\n",
    "    filters=[\n",
    "        lambda x: rotate(x, 270),\n",
    "        lambda x: pad_center_and_resize(x, DEFAULT_RESOLUTION, {'width':2000, 'height': 2000}),\n",
    "    ],\n",
    "    extension='mkv'\n",
    ")"
   ]
  },
  {
   "cell_type": "code",
   "execution_count": null,
   "metadata": {},
   "outputs": [],
   "source": [
    "from utils import closest_resolution_multiple"
   ]
  },
  {
   "cell_type": "code",
   "execution_count": null,
   "metadata": {},
   "outputs": [],
   "source": [
    "res = closest_resolution_multiple(\n",
    "    original_resolution={'width': 6000, 'height': 3000}, \n",
    "    target_resolution={'width': 3840, 'height': 2160}\n",
    ")\n",
    "\n",
    "print(res)"
   ]
  },
  {
   "cell_type": "code",
   "execution_count": null,
   "metadata": {},
   "outputs": [],
   "source": [
    "from files import create_output_path\n",
    "input_file = '~/Downloads/973.mov'\n",
    "\n",
    "transcode_video(\n",
    "    input_file,\n",
    "    output_file=create_output_path(input_file, '~/Documents/SNFTM_Utilities/data/render/videos', prefix='PADDED_SCALED', extension='mp4'),\n",
    "    filters=[\n",
    "        # lambda x: pad_center_native(x, DEFAULT_RESOLUTION),\n",
    "        lambda x: pad_center_and_resize(x, DEFAULT_RESOLUTION, {'width': 2560, 'height': 2160})\n",
    "    ],\n",
    "    profile=dict(\n",
    "        vcodec='libx264',\n",
    "        # q=0,\n",
    "        video_bitrate='30M',\n",
    "        level='4.0',\n",
    "        # c='copy',\n",
    "        # preset='slow',\n",
    "    )\n",
    ")"
   ]
  }
 ],
 "metadata": {
  "kernelspec": {
   "display_name": "Python 3",
   "language": "python",
   "name": "python3"
  },
  "language_info": {
   "codemirror_mode": {
    "name": "ipython",
    "version": 3
   },
   "file_extension": ".py",
   "mimetype": "text/x-python",
   "name": "python",
   "nbconvert_exporter": "python",
   "pygments_lexer": "ipython3",
   "version": "3.8.2"
  },
  "orig_nbformat": 4
 },
 "nbformat": 4,
 "nbformat_minor": 2
}
