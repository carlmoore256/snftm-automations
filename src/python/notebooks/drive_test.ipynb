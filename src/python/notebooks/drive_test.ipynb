{
 "cells": [
  {
   "cell_type": "code",
   "execution_count": null,
   "metadata": {},
   "outputs": [],
   "source": [
    "from google.oauth2.credentials import Credentials\n",
    "\n",
    "creds = None\n",
    "\n",
    "if creds is None:\n",
    "    # Replace with the path to your credentials JSON file\n",
    "    creds_path = '/path/to/credentials.json'\n",
    "    creds = Credentials.from_authorized_user_file(creds_path, ['https://www.googleapis.com/auth/drive'])"
   ]
  }
 ],
 "metadata": {
  "language_info": {
   "name": "python"
  },
  "orig_nbformat": 4
 },
 "nbformat": 4,
 "nbformat_minor": 2
}
