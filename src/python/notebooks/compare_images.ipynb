{
 "cells": [
  {
   "cell_type": "code",
   "execution_count": 3,
   "metadata": {},
   "outputs": [],
   "source": [
    "import numpy as np\n",
    "import math\n",
    "import scipy\n",
    "from PIL import Image\n",
    "import json\n",
    "import requests\n",
    "import matplotlib.pyplot as plt\n",
    "from io import BytesIO\n",
    "import os"
   ]
  },
  {
   "cell_type": "code",
   "execution_count": 4,
   "metadata": {},
   "outputs": [],
   "source": [
    "\n",
    "def compare_images(file1, file2):\n",
    "    image1 = np.array(Image.open(file1).resize((256, 256)).convert('L'))\n",
    "    image2 = np.array(Image.open(file2).resize((256, 256)).convert('L'))\n",
    "\n",
    "    fft1 = scipy.fft.fft2(image1)\n",
    "    fft2 = scipy.fft.fft2(image2)\n",
    "\n",
    "    diff = np.mean(np.abs(fft1 - fft2))\n",
    "\n",
    "    return diff"
   ]
  },
  {
   "cell_type": "code",
   "execution_count": 5,
   "metadata": {},
   "outputs": [
    {
     "name": "stdout",
     "output_type": "stream",
     "text": [
      "266.3007343989731\n",
      "4433.1493587220675\n"
     ]
    }
   ],
   "source": [
    "img1 = \"D:/SNFT_Pipeline/data/screenshots/example copy.png\"\n",
    "img2 = \"D:/SNFT_Pipeline/data/screenshots/example.png\"\n",
    "img3 = \"D:/SNFT_Pipeline/data/screenshots/test.png\"\n",
    "\n",
    "\n",
    "print(compare_images(img1, img2))\n",
    "print(compare_images(img1, img3))"
   ]
  },
  {
   "cell_type": "code",
   "execution_count": 6,
   "metadata": {},
   "outputs": [
    {
     "name": "stdout",
     "output_type": "stream",
     "text": [
      "[{'artist': 'Alida Sun', 'work': 'Sentient Sun in Steel ', 'code': 'A', 'zf_code': 'A_43', 'monitor_size': 43, 'network': 18, 'link': 'https://makersplace.com/0x494e9B8eF3026dD5f1ca2a7aF111A9D0AbD39DAC/sentient-sun-steel-stella-1-of-1-85961/', 'file_url': 'https://mkpcdn.com/1000x/e436ee1c6e10ca530cae817467359324_645832.jpg'}, {'artist': 'Alida Sun', 'work': 'Orbits and Neural Oracular Spectacular', 'code': 'B', 'zf_code': 'B_65', 'monitor_size': 65, 'network': 19, 'link': 'https://foundation.app/@alidasun/orbits/1', 'file_url': 'https://ipfs.io/ipfs/Qmf4G6n1vcHohc8SrpNHHqvZqGCRV66AFxG4Fubk1upYQz/nft.mp4'}, {'artist': 'Alida Sun', 'work': 'Day 1 ', 'code': 'C', 'zf_code': 'C_65', 'monitor_size': 65, 'network': 'D1-Router', 'link': 'https://opensea.io/assets/ethereum/0xf3a4ece20b4f65948e2e0de16d7e566a5c06f04f/1', 'file_url': 'https://i.seadn.io/gcs/files/a322c1767158f447e3651d20dd52a3a5.jpg?auto=format&w=1000'}, {'artist': 'Alida Sun', 'work': 'Chromacounterpane #15 and #7', 'code': 'D', 'zf_code': 'D_43', 'monitor_size': 43, 'network': 'D1-Router', 'link': 'https://makersplace.com/karatekid/chromacounterpane-15-aya-1-of-1-81554/', 'file_url': 'https://mkpcdn.com/1000x/9df06fab38744ac93736f6ec0958c125_171507.jpg'}, {'artist': 'Aleksandra Jovanic', 'work': 'Chromatlas vol. 4', 'code': 'E', 'zf_code': 'E_43', 'monitor_size': 43, 'network': 'D2', 'link': 'https://www.fxhash.xyz/generative/16032', 'file_url': 'https://gateway.fxhash.xyz/ipfs/QmT8V3u5twJr7BNBtnno6o6qQ9zZCkqs3Lr65FRFsXqci8'}, {'artist': 'Aleksandra Jovanic', 'work': 'Chromatlas vol. 8', 'code': 'F', 'zf_code': 'F_75', 'monitor_size': 75, 'network': 'D3', 'link': 'https://www.fxhash.xyz/generative/9098', 'file_url': 'https://gateway.fxhash.xyz/ipfs/QmdkmXEKEcdU5rLUMjjPQRF6VJifVJQFMbkxEUvXTSvdCe'}, {'artist': 'Emily Xie', 'work': 'Memories of Qilin #421', 'code': 'G', 'zf_code': 'G_65', 'monitor_size': 65, 'network': 'D10-Router', 'link': 'https://objkt.com/asset/c-verso/1178', 'file_url': 'https://assets.objkt.media/file/assets-003/QmUngomEAxcPdfGb6R9FkriTqfhtxqD7bsXwDkEpiu9qRQ/artifact'}, {'artist': 'Emily Xie', 'work': 'Memories of Qilin #7', 'code': 'H', 'zf_code': 'H_65', 'monitor_size': 65, 'network': 'D10-Router', 'link': 'https://opensea.io/assets/ethereum/0xa7d8d9ef8d8ce8992df33d8b8cf4aebabd5bd270/282000915', 'file_url': 'https://i.seadn.io/gcs/files/3963c1f54239739ef35ac7d6d686309e.png?auto=format&w=1000'}, {'artist': 'Emily Xie', 'work': 'Memories of Qilin #421', 'code': 'J', 'zf_code': 'J_65', 'monitor_size': 65, 'network': 'D10-Router', 'link': 'https://opensea.io/assets/ethereum/0xa7d8d9ef8d8ce8992df33d8b8cf4aebabd5bd270/282000521', 'file_url': 'https://i.seadn.io/gcs/files/8efca59b2b50ca8ccb9f35586536bd35.png?auto=format&w=1000'}, {'artist': 'Emily Xie', 'work': 'Memories of Qilin #0', 'code': 'K', 'zf_code': 'K_65', 'monitor_size': 65, 'network': 'D10-Router', 'link': 'https://opensea.io/assets/ethereum/0xa7d8d9ef8d8ce8992df33d8b8cf4aebabd5bd270/282000191', 'file_url': 'https://i.seadn.io/gcs/files/619b2fa86a169648e3458cf53c187127.png?auto=format&w=1000'}, {'artist': 'Jen Stark', 'work': 'Vortex #61', 'code': 'L1', 'zf_code': 'L1_43', 'monitor_size': 43, 'network': '29-Router', 'link': 'https://www.dropbox.com/s/719qxdrp0pd3h2f/Vortex-61.mp4?dl=0'}, {'artist': 'Jen Stark', 'work': 'Vortex #965', 'code': 'L2', 'zf_code': 'L2_43', 'monitor_size': 43, 'network': '29-Router', 'link': 'https://www.dropbox.com/s/z03k0xczwsfh7t2/Vortex-965.mp4?dl=0'}, {'artist': 'Jen Stark', 'work': 'Vortex #955', 'code': 'L3', 'zf_code': 'L3_43', 'monitor_size': 43, 'network': '29-Router', 'link': 'https://www.dropbox.com/s/mqz78qn6ro2p0ru/955.mov?dl=0'}, {'artist': 'Jen Stark', 'work': 'Vortex #973', 'code': 'L4', 'zf_code': 'L4_43', 'monitor_size': 43, 'network': '29-Router', 'link': 'https://www.dropbox.com/s/s4i6j9f3d0z835x/973.mov?dl=0'}, {'artist': 'Licia He', 'work': 'Where are we going', 'code': 'M', 'zf_code': 'M_43', 'monitor_size': 43, 'network': 'D5', 'link': 'https://foundation.app/@licia_he/lh-47b1/3', 'file_url': 'https://arweave.net/nd8xHFl7mqA-2OWgdcS26fpozlTZWArsCHVhGBUJCZs'}, {'artist': 'Licia He', 'work': 'It seems more than a few miles back', 'code': 'N', 'zf_code': 'N_43', 'monitor_size': 43, 'network': 'D6', 'link': 'https://foundation.app/@licia_he/lh-47b1/1', 'file_url': 'https://arweave.net/HXpBRlwUELa-ujt-SLPxoo-s2HqSLjEGVOm80pHHwnI'}, {'artist': 'Licia He', 'work': 'A story for a minute', 'code': 'O', 'zf_code': 'O_65', 'monitor_size': 65, 'network': 'D7', 'link': 'https://foundation.app/@licia_he/foundation/128818', 'file_url': 'https://ipfs.io/ipfs/QmWwxGhEwxPpsGK4SCGYxeCv4U5Yyf2h1BnkNdy6Mo32XZ/nft.jpg'}, {'artist': 'Licia He', 'work': \"I've been out of college\", 'code': 'P', 'zf_code': 'P_65', 'monitor_size': 65, 'network': 'D8', 'link': 'https://foundation.app/@licia_he/lh-47b1/3', 'file_url': 'https://arweave.net/nd8xHFl7mqA-2OWgdcS26fpozlTZWArsCHVhGBUJCZs'}, {'artist': 'Anna Lucia', 'work': 'Loom #0 and #46', 'code': 'Q', 'zf_code': 'Q_65', 'monitor_size': 65, 'network': 26, 'link': 'https://opensea.io/assets/ethereum/0xa7d8d9ef8d8ce8992df33d8b8cf4aebabd5bd270/213000000', 'file_url': 'https://i.seadn.io/gcs/files/cbc64456d95e67d3993877a36f7b9e70.png?auto=format&w=1000'}, {'artist': 'Anna Lucia', 'work': 'Loom #129 and #25', 'code': 'R', 'zf_code': 'R_65', 'monitor_size': 65, 'network': 27, 'link': 'https://opensea.io/assets/ethereum/0xa7d8d9ef8d8ce8992df33d8b8cf4aebabd5bd270/213000129', 'file_url': 'https://i.seadn.io/gcs/files/63748b15e664359495252f122a3d79fc.png?auto=format&w=1000'}, {'artist': 'Aleksandra Jovanic', 'work': 'Chromatlas vol. 9', 'code': 'S', 'zf_code': 'S_43', 'monitor_size': 43, 'network': 23, 'link': 'https://www.fxhash.xyz/generative/16535', 'file_url': 'https://gateway.fxhash.xyz/ipfs/QmXf4uZrNpvT4KBHVskFsQ8a41wuVbUYAKzpcZQp7zJA9Y'}, {'artist': 'Aleksandra Jovanic', 'work': 'Chromatlas vol. 10', 'code': 'T', 'zf_code': 'T_43', 'monitor_size': 43, 'network': 24, 'link': 'https://www.fxhash.xyz/generative/16927', 'file_url': 'https://gateway.fxhash.xyz/ipfs/QmQX867sXVvQ2PJmvb6LnS8hvy3vY4HengPqrnW5khbe4w'}, {'artist': 'Mieke Marple', 'work': 'Medusa 0', 'code': 'U', 'zf_code': 'U_65', 'monitor_size': 65, 'network': '29-Router', 'link': 'https://opensea.io/assets/ethereum/0x259cf26dd6172728c6f8e0e6ae5b16e1b9d65df6/0', 'file_url': 'https://i.seadn.io/gae/o_I46X6GXw70eOvBzDF31NT_Z9UbR3bzImdBCXUiuIuWduJT5P4OCeo5sUseTXi2L7iAq1Jz0fFnfifuJPSG_H6d0IuaNaglipcFDQ?auto=format&w=1000'}, {'artist': 'Mieke Marple', 'work': 'Medusa 414', 'code': 'V', 'zf_code': 'V_43', 'monitor_size': 43, 'network': 25, 'link': 'https://opensea.io/assets/ethereum/0x495f947276749ce646f68ac8c248420045cb7b5e/49627714412250459268020911193636266760001820625666130899906076663685446631425', 'file_url': 'https://i.seadn.io/gae/7G7VJiCsvh83iBTyyjuyr7mog7ai63AwYAq9enh8MHArl310zX09zMJy99sD8_enBbeJJvdQnLFLmsMKnaQIZ9qHhNVJHjrEB98u?auto=format&w=1000'}, {'artist': 'Monica Rizolli', 'work': 'Fuchsia', 'code': 'W', 'zf_code': 'W_65', 'monitor_size': 65, 'network': 22, 'link': 'https://cryptoart.io/artist/monicarizzolli'}, {'artist': 'Monica Rizolli', 'work': 'Underwater #0 ', 'code': 'X', 'zf_code': 'X_65', 'monitor_size': 65, 'network': 'D9', 'link': 'https://opensea.io/assets/ethereum/0x0a1bbd57033f57e7b6743621b79fcb9eb2ce3676/20000000', 'file_url': 'https://i.seadn.io/gcs/files/4025a9356532eb9353d385c8e16450b6.png?auto=format&w=1000'}, {'artist': 'Emily Xie', 'work': 'Assemblage #4', 'code': 'Y', 'zf_code': 'Y_65', 'monitor_size': 65, 'network': 'D10-Router', 'link': 'https://objkt.com/asset/c-verso/1179', 'file_url': 'https://assets.objkt.media/file/assets-003/QmP7Mvgp799sKDQUAdc1AkF3aHwkpXp16XrP8uCUHcxH57/artifact'}, {'artist': 'Emily Xie', 'work': 'Assemblage #6', 'code': 'Z', 'zf_code': 'Z_65', 'monitor_size': 65, 'network': 'D10-Router', 'link': 'https://objkt.com/asset/c-verso/1179', 'file_url': 'https://assets.objkt.media/file/assets-003/QmP7Mvgp799sKDQUAdc1AkF3aHwkpXp16XrP8uCUHcxH57/artifact'}]\n"
     ]
    }
   ],
   "source": [
    "with open(\"../../../data/artist-works-feb.json\") as f:\n",
    "    artist_works = json.load(f)\n",
    "print(artist_works)"
   ]
  },
  {
   "cell_type": "code",
   "execution_count": 9,
   "metadata": {},
   "outputs": [
    {
     "name": "stdout",
     "output_type": "stream",
     "text": [
      "YO CONTENT TYPE IS image/jpeg\n",
      "Work: Orbits and Neural Oracular Spectacular by Alida Sun at https://ipfs.io/ipfs/Qmf4G6n1vcHohc8SrpNHHqvZqGCRV66AFxG4Fubk1upYQz/nft.mp4 is not an image\n",
      "YO CONTENT TYPE IS image/jpeg\n",
      "YO CONTENT TYPE IS image/jpeg\n",
      "YO CONTENT TYPE IS image/png\n",
      "YO CONTENT TYPE IS image/png\n",
      "YO CONTENT TYPE IS image/png\n",
      "YO CONTENT TYPE IS image/png\n",
      "YO CONTENT TYPE IS image/png\n",
      "YO CONTENT TYPE IS image/png\n",
      "https://arweave.net/nd8xHFl7mqA-2OWgdcS26fpozlTZWArsCHVhGBUJCZs NOT FOUND\n",
      "https://arweave.net/HXpBRlwUELa-ujt-SLPxoo-s2HqSLjEGVOm80pHHwnI NOT FOUND\n",
      "YO CONTENT TYPE IS image/jpeg\n",
      "https://arweave.net/nd8xHFl7mqA-2OWgdcS26fpozlTZWArsCHVhGBUJCZs NOT FOUND\n",
      "YO CONTENT TYPE IS image/png\n"
     ]
    },
    {
     "ename": "KeyboardInterrupt",
     "evalue": "",
     "output_type": "error",
     "traceback": [
      "\u001b[1;31m---------------------------------------------------------------------------\u001b[0m",
      "\u001b[1;31mKeyboardInterrupt\u001b[0m                         Traceback (most recent call last)",
      "\u001b[1;32m<ipython-input-9-d7ee5840e0fa>\u001b[0m in \u001b[0;36m<module>\u001b[1;34m\u001b[0m\n\u001b[0;32m      4\u001b[0m \u001b[1;32mfor\u001b[0m \u001b[0mwork\u001b[0m \u001b[1;32min\u001b[0m \u001b[0martist_works\u001b[0m\u001b[1;33m:\u001b[0m\u001b[1;33m\u001b[0m\u001b[1;33m\u001b[0m\u001b[0m\n\u001b[0;32m      5\u001b[0m \u001b[1;33m\u001b[0m\u001b[0m\n\u001b[1;32m----> 6\u001b[1;33m     \u001b[0mres\u001b[0m \u001b[1;33m=\u001b[0m \u001b[0mrequests\u001b[0m\u001b[1;33m.\u001b[0m\u001b[0mhead\u001b[0m\u001b[1;33m(\u001b[0m\u001b[0mwork\u001b[0m\u001b[1;33m[\u001b[0m\u001b[1;34m\"file_url\"\u001b[0m\u001b[1;33m]\u001b[0m\u001b[1;33m)\u001b[0m\u001b[1;33m\u001b[0m\u001b[1;33m\u001b[0m\u001b[0m\n\u001b[0m\u001b[0;32m      7\u001b[0m     \u001b[1;32mif\u001b[0m \u001b[0mres\u001b[0m\u001b[1;33m.\u001b[0m\u001b[0mstatus_code\u001b[0m \u001b[1;33m!=\u001b[0m \u001b[1;36m200\u001b[0m\u001b[1;33m:\u001b[0m\u001b[1;33m\u001b[0m\u001b[1;33m\u001b[0m\u001b[0m\n\u001b[0;32m      8\u001b[0m         \u001b[0mprint\u001b[0m\u001b[1;33m(\u001b[0m\u001b[1;34mf'{work[\"file_url\"]} NOT FOUND'\u001b[0m\u001b[1;33m)\u001b[0m\u001b[1;33m\u001b[0m\u001b[1;33m\u001b[0m\u001b[0m\n",
      "\u001b[1;32mc:\\Users\\Carl\\AppData\\Local\\Programs\\Python\\Python37\\lib\\site-packages\\requests\\api.py\u001b[0m in \u001b[0;36mhead\u001b[1;34m(url, **kwargs)\u001b[0m\n\u001b[0;32m    102\u001b[0m \u001b[1;33m\u001b[0m\u001b[0m\n\u001b[0;32m    103\u001b[0m     \u001b[0mkwargs\u001b[0m\u001b[1;33m.\u001b[0m\u001b[0msetdefault\u001b[0m\u001b[1;33m(\u001b[0m\u001b[1;34m'allow_redirects'\u001b[0m\u001b[1;33m,\u001b[0m \u001b[1;32mFalse\u001b[0m\u001b[1;33m)\u001b[0m\u001b[1;33m\u001b[0m\u001b[1;33m\u001b[0m\u001b[0m\n\u001b[1;32m--> 104\u001b[1;33m     \u001b[1;32mreturn\u001b[0m \u001b[0mrequest\u001b[0m\u001b[1;33m(\u001b[0m\u001b[1;34m'head'\u001b[0m\u001b[1;33m,\u001b[0m \u001b[0murl\u001b[0m\u001b[1;33m,\u001b[0m \u001b[1;33m**\u001b[0m\u001b[0mkwargs\u001b[0m\u001b[1;33m)\u001b[0m\u001b[1;33m\u001b[0m\u001b[1;33m\u001b[0m\u001b[0m\n\u001b[0m\u001b[0;32m    105\u001b[0m \u001b[1;33m\u001b[0m\u001b[0m\n\u001b[0;32m    106\u001b[0m \u001b[1;33m\u001b[0m\u001b[0m\n",
      "\u001b[1;32mc:\\Users\\Carl\\AppData\\Local\\Programs\\Python\\Python37\\lib\\site-packages\\requests\\api.py\u001b[0m in \u001b[0;36mrequest\u001b[1;34m(method, url, **kwargs)\u001b[0m\n\u001b[0;32m     59\u001b[0m     \u001b[1;31m# cases, and look like a memory leak in others.\u001b[0m\u001b[1;33m\u001b[0m\u001b[1;33m\u001b[0m\u001b[1;33m\u001b[0m\u001b[0m\n\u001b[0;32m     60\u001b[0m     \u001b[1;32mwith\u001b[0m \u001b[0msessions\u001b[0m\u001b[1;33m.\u001b[0m\u001b[0mSession\u001b[0m\u001b[1;33m(\u001b[0m\u001b[1;33m)\u001b[0m \u001b[1;32mas\u001b[0m \u001b[0msession\u001b[0m\u001b[1;33m:\u001b[0m\u001b[1;33m\u001b[0m\u001b[1;33m\u001b[0m\u001b[0m\n\u001b[1;32m---> 61\u001b[1;33m         \u001b[1;32mreturn\u001b[0m \u001b[0msession\u001b[0m\u001b[1;33m.\u001b[0m\u001b[0mrequest\u001b[0m\u001b[1;33m(\u001b[0m\u001b[0mmethod\u001b[0m\u001b[1;33m=\u001b[0m\u001b[0mmethod\u001b[0m\u001b[1;33m,\u001b[0m \u001b[0murl\u001b[0m\u001b[1;33m=\u001b[0m\u001b[0murl\u001b[0m\u001b[1;33m,\u001b[0m \u001b[1;33m**\u001b[0m\u001b[0mkwargs\u001b[0m\u001b[1;33m)\u001b[0m\u001b[1;33m\u001b[0m\u001b[1;33m\u001b[0m\u001b[0m\n\u001b[0m\u001b[0;32m     62\u001b[0m \u001b[1;33m\u001b[0m\u001b[0m\n\u001b[0;32m     63\u001b[0m \u001b[1;33m\u001b[0m\u001b[0m\n",
      "\u001b[1;32mc:\\Users\\Carl\\AppData\\Local\\Programs\\Python\\Python37\\lib\\site-packages\\requests\\sessions.py\u001b[0m in \u001b[0;36mrequest\u001b[1;34m(self, method, url, params, data, headers, cookies, files, auth, timeout, allow_redirects, proxies, hooks, stream, verify, cert, json)\u001b[0m\n\u001b[0;32m    540\u001b[0m         }\n\u001b[0;32m    541\u001b[0m         \u001b[0msend_kwargs\u001b[0m\u001b[1;33m.\u001b[0m\u001b[0mupdate\u001b[0m\u001b[1;33m(\u001b[0m\u001b[0msettings\u001b[0m\u001b[1;33m)\u001b[0m\u001b[1;33m\u001b[0m\u001b[1;33m\u001b[0m\u001b[0m\n\u001b[1;32m--> 542\u001b[1;33m         \u001b[0mresp\u001b[0m \u001b[1;33m=\u001b[0m \u001b[0mself\u001b[0m\u001b[1;33m.\u001b[0m\u001b[0msend\u001b[0m\u001b[1;33m(\u001b[0m\u001b[0mprep\u001b[0m\u001b[1;33m,\u001b[0m \u001b[1;33m**\u001b[0m\u001b[0msend_kwargs\u001b[0m\u001b[1;33m)\u001b[0m\u001b[1;33m\u001b[0m\u001b[1;33m\u001b[0m\u001b[0m\n\u001b[0m\u001b[0;32m    543\u001b[0m \u001b[1;33m\u001b[0m\u001b[0m\n\u001b[0;32m    544\u001b[0m         \u001b[1;32mreturn\u001b[0m \u001b[0mresp\u001b[0m\u001b[1;33m\u001b[0m\u001b[1;33m\u001b[0m\u001b[0m\n",
      "\u001b[1;32mc:\\Users\\Carl\\AppData\\Local\\Programs\\Python\\Python37\\lib\\site-packages\\requests\\sessions.py\u001b[0m in \u001b[0;36msend\u001b[1;34m(self, request, **kwargs)\u001b[0m\n\u001b[0;32m    653\u001b[0m \u001b[1;33m\u001b[0m\u001b[0m\n\u001b[0;32m    654\u001b[0m         \u001b[1;31m# Send the request\u001b[0m\u001b[1;33m\u001b[0m\u001b[1;33m\u001b[0m\u001b[1;33m\u001b[0m\u001b[0m\n\u001b[1;32m--> 655\u001b[1;33m         \u001b[0mr\u001b[0m \u001b[1;33m=\u001b[0m \u001b[0madapter\u001b[0m\u001b[1;33m.\u001b[0m\u001b[0msend\u001b[0m\u001b[1;33m(\u001b[0m\u001b[0mrequest\u001b[0m\u001b[1;33m,\u001b[0m \u001b[1;33m**\u001b[0m\u001b[0mkwargs\u001b[0m\u001b[1;33m)\u001b[0m\u001b[1;33m\u001b[0m\u001b[1;33m\u001b[0m\u001b[0m\n\u001b[0m\u001b[0;32m    656\u001b[0m \u001b[1;33m\u001b[0m\u001b[0m\n\u001b[0;32m    657\u001b[0m         \u001b[1;31m# Total elapsed time of the request (approximately)\u001b[0m\u001b[1;33m\u001b[0m\u001b[1;33m\u001b[0m\u001b[1;33m\u001b[0m\u001b[0m\n",
      "\u001b[1;32mc:\\Users\\Carl\\AppData\\Local\\Programs\\Python\\Python37\\lib\\site-packages\\requests\\adapters.py\u001b[0m in \u001b[0;36msend\u001b[1;34m(self, request, stream, timeout, verify, cert, proxies)\u001b[0m\n\u001b[0;32m    447\u001b[0m                     \u001b[0mdecode_content\u001b[0m\u001b[1;33m=\u001b[0m\u001b[1;32mFalse\u001b[0m\u001b[1;33m,\u001b[0m\u001b[1;33m\u001b[0m\u001b[1;33m\u001b[0m\u001b[0m\n\u001b[0;32m    448\u001b[0m                     \u001b[0mretries\u001b[0m\u001b[1;33m=\u001b[0m\u001b[0mself\u001b[0m\u001b[1;33m.\u001b[0m\u001b[0mmax_retries\u001b[0m\u001b[1;33m,\u001b[0m\u001b[1;33m\u001b[0m\u001b[1;33m\u001b[0m\u001b[0m\n\u001b[1;32m--> 449\u001b[1;33m                     \u001b[0mtimeout\u001b[0m\u001b[1;33m=\u001b[0m\u001b[0mtimeout\u001b[0m\u001b[1;33m\u001b[0m\u001b[1;33m\u001b[0m\u001b[0m\n\u001b[0m\u001b[0;32m    450\u001b[0m                 )\n\u001b[0;32m    451\u001b[0m \u001b[1;33m\u001b[0m\u001b[0m\n",
      "\u001b[1;32mc:\\Users\\Carl\\AppData\\Local\\Programs\\Python\\Python37\\lib\\site-packages\\urllib3\\connectionpool.py\u001b[0m in \u001b[0;36murlopen\u001b[1;34m(self, method, url, body, headers, retries, redirect, assert_same_host, timeout, pool_timeout, release_conn, chunked, body_pos, **response_kw)\u001b[0m\n\u001b[0;32m    704\u001b[0m                 \u001b[0mbody\u001b[0m\u001b[1;33m=\u001b[0m\u001b[0mbody\u001b[0m\u001b[1;33m,\u001b[0m\u001b[1;33m\u001b[0m\u001b[1;33m\u001b[0m\u001b[0m\n\u001b[0;32m    705\u001b[0m                 \u001b[0mheaders\u001b[0m\u001b[1;33m=\u001b[0m\u001b[0mheaders\u001b[0m\u001b[1;33m,\u001b[0m\u001b[1;33m\u001b[0m\u001b[1;33m\u001b[0m\u001b[0m\n\u001b[1;32m--> 706\u001b[1;33m                 \u001b[0mchunked\u001b[0m\u001b[1;33m=\u001b[0m\u001b[0mchunked\u001b[0m\u001b[1;33m,\u001b[0m\u001b[1;33m\u001b[0m\u001b[1;33m\u001b[0m\u001b[0m\n\u001b[0m\u001b[0;32m    707\u001b[0m             )\n\u001b[0;32m    708\u001b[0m \u001b[1;33m\u001b[0m\u001b[0m\n",
      "\u001b[1;32mc:\\Users\\Carl\\AppData\\Local\\Programs\\Python\\Python37\\lib\\site-packages\\urllib3\\connectionpool.py\u001b[0m in \u001b[0;36m_make_request\u001b[1;34m(self, conn, method, url, timeout, chunked, **httplib_request_kw)\u001b[0m\n\u001b[0;32m    443\u001b[0m                     \u001b[1;31m# Python 3 (including for exceptions like SystemExit).\u001b[0m\u001b[1;33m\u001b[0m\u001b[1;33m\u001b[0m\u001b[1;33m\u001b[0m\u001b[0m\n\u001b[0;32m    444\u001b[0m                     \u001b[1;31m# Otherwise it looks like a bug in the code.\u001b[0m\u001b[1;33m\u001b[0m\u001b[1;33m\u001b[0m\u001b[1;33m\u001b[0m\u001b[0m\n\u001b[1;32m--> 445\u001b[1;33m                     \u001b[0msix\u001b[0m\u001b[1;33m.\u001b[0m\u001b[0mraise_from\u001b[0m\u001b[1;33m(\u001b[0m\u001b[0me\u001b[0m\u001b[1;33m,\u001b[0m \u001b[1;32mNone\u001b[0m\u001b[1;33m)\u001b[0m\u001b[1;33m\u001b[0m\u001b[1;33m\u001b[0m\u001b[0m\n\u001b[0m\u001b[0;32m    446\u001b[0m         \u001b[1;32mexcept\u001b[0m \u001b[1;33m(\u001b[0m\u001b[0mSocketTimeout\u001b[0m\u001b[1;33m,\u001b[0m \u001b[0mBaseSSLError\u001b[0m\u001b[1;33m,\u001b[0m \u001b[0mSocketError\u001b[0m\u001b[1;33m)\u001b[0m \u001b[1;32mas\u001b[0m \u001b[0me\u001b[0m\u001b[1;33m:\u001b[0m\u001b[1;33m\u001b[0m\u001b[1;33m\u001b[0m\u001b[0m\n\u001b[0;32m    447\u001b[0m             \u001b[0mself\u001b[0m\u001b[1;33m.\u001b[0m\u001b[0m_raise_timeout\u001b[0m\u001b[1;33m(\u001b[0m\u001b[0merr\u001b[0m\u001b[1;33m=\u001b[0m\u001b[0me\u001b[0m\u001b[1;33m,\u001b[0m \u001b[0murl\u001b[0m\u001b[1;33m=\u001b[0m\u001b[0murl\u001b[0m\u001b[1;33m,\u001b[0m \u001b[0mtimeout_value\u001b[0m\u001b[1;33m=\u001b[0m\u001b[0mread_timeout\u001b[0m\u001b[1;33m)\u001b[0m\u001b[1;33m\u001b[0m\u001b[1;33m\u001b[0m\u001b[0m\n",
      "\u001b[1;32mc:\\Users\\Carl\\AppData\\Local\\Programs\\Python\\Python37\\lib\\site-packages\\urllib3\\packages\\six.py\u001b[0m in \u001b[0;36mraise_from\u001b[1;34m(value, from_value)\u001b[0m\n",
      "\u001b[1;32mc:\\Users\\Carl\\AppData\\Local\\Programs\\Python\\Python37\\lib\\site-packages\\urllib3\\connectionpool.py\u001b[0m in \u001b[0;36m_make_request\u001b[1;34m(self, conn, method, url, timeout, chunked, **httplib_request_kw)\u001b[0m\n\u001b[0;32m    438\u001b[0m                 \u001b[1;31m# Python 3\u001b[0m\u001b[1;33m\u001b[0m\u001b[1;33m\u001b[0m\u001b[1;33m\u001b[0m\u001b[0m\n\u001b[0;32m    439\u001b[0m                 \u001b[1;32mtry\u001b[0m\u001b[1;33m:\u001b[0m\u001b[1;33m\u001b[0m\u001b[1;33m\u001b[0m\u001b[0m\n\u001b[1;32m--> 440\u001b[1;33m                     \u001b[0mhttplib_response\u001b[0m \u001b[1;33m=\u001b[0m \u001b[0mconn\u001b[0m\u001b[1;33m.\u001b[0m\u001b[0mgetresponse\u001b[0m\u001b[1;33m(\u001b[0m\u001b[1;33m)\u001b[0m\u001b[1;33m\u001b[0m\u001b[1;33m\u001b[0m\u001b[0m\n\u001b[0m\u001b[0;32m    441\u001b[0m                 \u001b[1;32mexcept\u001b[0m \u001b[0mBaseException\u001b[0m \u001b[1;32mas\u001b[0m \u001b[0me\u001b[0m\u001b[1;33m:\u001b[0m\u001b[1;33m\u001b[0m\u001b[1;33m\u001b[0m\u001b[0m\n\u001b[0;32m    442\u001b[0m                     \u001b[1;31m# Remove the TypeError from the exception chain in\u001b[0m\u001b[1;33m\u001b[0m\u001b[1;33m\u001b[0m\u001b[1;33m\u001b[0m\u001b[0m\n",
      "\u001b[1;32mc:\\Users\\Carl\\AppData\\Local\\Programs\\Python\\Python37\\lib\\http\\client.py\u001b[0m in \u001b[0;36mgetresponse\u001b[1;34m(self)\u001b[0m\n\u001b[0;32m   1367\u001b[0m         \u001b[1;32mtry\u001b[0m\u001b[1;33m:\u001b[0m\u001b[1;33m\u001b[0m\u001b[1;33m\u001b[0m\u001b[0m\n\u001b[0;32m   1368\u001b[0m             \u001b[1;32mtry\u001b[0m\u001b[1;33m:\u001b[0m\u001b[1;33m\u001b[0m\u001b[1;33m\u001b[0m\u001b[0m\n\u001b[1;32m-> 1369\u001b[1;33m                 \u001b[0mresponse\u001b[0m\u001b[1;33m.\u001b[0m\u001b[0mbegin\u001b[0m\u001b[1;33m(\u001b[0m\u001b[1;33m)\u001b[0m\u001b[1;33m\u001b[0m\u001b[1;33m\u001b[0m\u001b[0m\n\u001b[0m\u001b[0;32m   1370\u001b[0m             \u001b[1;32mexcept\u001b[0m \u001b[0mConnectionError\u001b[0m\u001b[1;33m:\u001b[0m\u001b[1;33m\u001b[0m\u001b[1;33m\u001b[0m\u001b[0m\n\u001b[0;32m   1371\u001b[0m                 \u001b[0mself\u001b[0m\u001b[1;33m.\u001b[0m\u001b[0mclose\u001b[0m\u001b[1;33m(\u001b[0m\u001b[1;33m)\u001b[0m\u001b[1;33m\u001b[0m\u001b[1;33m\u001b[0m\u001b[0m\n",
      "\u001b[1;32mc:\\Users\\Carl\\AppData\\Local\\Programs\\Python\\Python37\\lib\\http\\client.py\u001b[0m in \u001b[0;36mbegin\u001b[1;34m(self)\u001b[0m\n\u001b[0;32m    308\u001b[0m         \u001b[1;31m# read until we get a non-100 response\u001b[0m\u001b[1;33m\u001b[0m\u001b[1;33m\u001b[0m\u001b[1;33m\u001b[0m\u001b[0m\n\u001b[0;32m    309\u001b[0m         \u001b[1;32mwhile\u001b[0m \u001b[1;32mTrue\u001b[0m\u001b[1;33m:\u001b[0m\u001b[1;33m\u001b[0m\u001b[1;33m\u001b[0m\u001b[0m\n\u001b[1;32m--> 310\u001b[1;33m             \u001b[0mversion\u001b[0m\u001b[1;33m,\u001b[0m \u001b[0mstatus\u001b[0m\u001b[1;33m,\u001b[0m \u001b[0mreason\u001b[0m \u001b[1;33m=\u001b[0m \u001b[0mself\u001b[0m\u001b[1;33m.\u001b[0m\u001b[0m_read_status\u001b[0m\u001b[1;33m(\u001b[0m\u001b[1;33m)\u001b[0m\u001b[1;33m\u001b[0m\u001b[1;33m\u001b[0m\u001b[0m\n\u001b[0m\u001b[0;32m    311\u001b[0m             \u001b[1;32mif\u001b[0m \u001b[0mstatus\u001b[0m \u001b[1;33m!=\u001b[0m \u001b[0mCONTINUE\u001b[0m\u001b[1;33m:\u001b[0m\u001b[1;33m\u001b[0m\u001b[1;33m\u001b[0m\u001b[0m\n\u001b[0;32m    312\u001b[0m                 \u001b[1;32mbreak\u001b[0m\u001b[1;33m\u001b[0m\u001b[1;33m\u001b[0m\u001b[0m\n",
      "\u001b[1;32mc:\\Users\\Carl\\AppData\\Local\\Programs\\Python\\Python37\\lib\\http\\client.py\u001b[0m in \u001b[0;36m_read_status\u001b[1;34m(self)\u001b[0m\n\u001b[0;32m    269\u001b[0m \u001b[1;33m\u001b[0m\u001b[0m\n\u001b[0;32m    270\u001b[0m     \u001b[1;32mdef\u001b[0m \u001b[0m_read_status\u001b[0m\u001b[1;33m(\u001b[0m\u001b[0mself\u001b[0m\u001b[1;33m)\u001b[0m\u001b[1;33m:\u001b[0m\u001b[1;33m\u001b[0m\u001b[1;33m\u001b[0m\u001b[0m\n\u001b[1;32m--> 271\u001b[1;33m         \u001b[0mline\u001b[0m \u001b[1;33m=\u001b[0m \u001b[0mstr\u001b[0m\u001b[1;33m(\u001b[0m\u001b[0mself\u001b[0m\u001b[1;33m.\u001b[0m\u001b[0mfp\u001b[0m\u001b[1;33m.\u001b[0m\u001b[0mreadline\u001b[0m\u001b[1;33m(\u001b[0m\u001b[0m_MAXLINE\u001b[0m \u001b[1;33m+\u001b[0m \u001b[1;36m1\u001b[0m\u001b[1;33m)\u001b[0m\u001b[1;33m,\u001b[0m \u001b[1;34m\"iso-8859-1\"\u001b[0m\u001b[1;33m)\u001b[0m\u001b[1;33m\u001b[0m\u001b[1;33m\u001b[0m\u001b[0m\n\u001b[0m\u001b[0;32m    272\u001b[0m         \u001b[1;32mif\u001b[0m \u001b[0mlen\u001b[0m\u001b[1;33m(\u001b[0m\u001b[0mline\u001b[0m\u001b[1;33m)\u001b[0m \u001b[1;33m>\u001b[0m \u001b[0m_MAXLINE\u001b[0m\u001b[1;33m:\u001b[0m\u001b[1;33m\u001b[0m\u001b[1;33m\u001b[0m\u001b[0m\n\u001b[0;32m    273\u001b[0m             \u001b[1;32mraise\u001b[0m \u001b[0mLineTooLong\u001b[0m\u001b[1;33m(\u001b[0m\u001b[1;34m\"status line\"\u001b[0m\u001b[1;33m)\u001b[0m\u001b[1;33m\u001b[0m\u001b[1;33m\u001b[0m\u001b[0m\n",
      "\u001b[1;32mc:\\Users\\Carl\\AppData\\Local\\Programs\\Python\\Python37\\lib\\socket.py\u001b[0m in \u001b[0;36mreadinto\u001b[1;34m(self, b)\u001b[0m\n\u001b[0;32m    587\u001b[0m         \u001b[1;32mwhile\u001b[0m \u001b[1;32mTrue\u001b[0m\u001b[1;33m:\u001b[0m\u001b[1;33m\u001b[0m\u001b[1;33m\u001b[0m\u001b[0m\n\u001b[0;32m    588\u001b[0m             \u001b[1;32mtry\u001b[0m\u001b[1;33m:\u001b[0m\u001b[1;33m\u001b[0m\u001b[1;33m\u001b[0m\u001b[0m\n\u001b[1;32m--> 589\u001b[1;33m                 \u001b[1;32mreturn\u001b[0m \u001b[0mself\u001b[0m\u001b[1;33m.\u001b[0m\u001b[0m_sock\u001b[0m\u001b[1;33m.\u001b[0m\u001b[0mrecv_into\u001b[0m\u001b[1;33m(\u001b[0m\u001b[0mb\u001b[0m\u001b[1;33m)\u001b[0m\u001b[1;33m\u001b[0m\u001b[1;33m\u001b[0m\u001b[0m\n\u001b[0m\u001b[0;32m    590\u001b[0m             \u001b[1;32mexcept\u001b[0m \u001b[0mtimeout\u001b[0m\u001b[1;33m:\u001b[0m\u001b[1;33m\u001b[0m\u001b[1;33m\u001b[0m\u001b[0m\n\u001b[0;32m    591\u001b[0m                 \u001b[0mself\u001b[0m\u001b[1;33m.\u001b[0m\u001b[0m_timeout_occurred\u001b[0m \u001b[1;33m=\u001b[0m \u001b[1;32mTrue\u001b[0m\u001b[1;33m\u001b[0m\u001b[1;33m\u001b[0m\u001b[0m\n",
      "\u001b[1;32mc:\\Users\\Carl\\AppData\\Local\\Programs\\Python\\Python37\\lib\\ssl.py\u001b[0m in \u001b[0;36mrecv_into\u001b[1;34m(self, buffer, nbytes, flags)\u001b[0m\n\u001b[0;32m   1069\u001b[0m                   \u001b[1;34m\"non-zero flags not allowed in calls to recv_into() on %s\"\u001b[0m \u001b[1;33m%\u001b[0m\u001b[1;33m\u001b[0m\u001b[1;33m\u001b[0m\u001b[0m\n\u001b[0;32m   1070\u001b[0m                   self.__class__)\n\u001b[1;32m-> 1071\u001b[1;33m             \u001b[1;32mreturn\u001b[0m \u001b[0mself\u001b[0m\u001b[1;33m.\u001b[0m\u001b[0mread\u001b[0m\u001b[1;33m(\u001b[0m\u001b[0mnbytes\u001b[0m\u001b[1;33m,\u001b[0m \u001b[0mbuffer\u001b[0m\u001b[1;33m)\u001b[0m\u001b[1;33m\u001b[0m\u001b[1;33m\u001b[0m\u001b[0m\n\u001b[0m\u001b[0;32m   1072\u001b[0m         \u001b[1;32melse\u001b[0m\u001b[1;33m:\u001b[0m\u001b[1;33m\u001b[0m\u001b[1;33m\u001b[0m\u001b[0m\n\u001b[0;32m   1073\u001b[0m             \u001b[1;32mreturn\u001b[0m \u001b[0msuper\u001b[0m\u001b[1;33m(\u001b[0m\u001b[1;33m)\u001b[0m\u001b[1;33m.\u001b[0m\u001b[0mrecv_into\u001b[0m\u001b[1;33m(\u001b[0m\u001b[0mbuffer\u001b[0m\u001b[1;33m,\u001b[0m \u001b[0mnbytes\u001b[0m\u001b[1;33m,\u001b[0m \u001b[0mflags\u001b[0m\u001b[1;33m)\u001b[0m\u001b[1;33m\u001b[0m\u001b[1;33m\u001b[0m\u001b[0m\n",
      "\u001b[1;32mc:\\Users\\Carl\\AppData\\Local\\Programs\\Python\\Python37\\lib\\ssl.py\u001b[0m in \u001b[0;36mread\u001b[1;34m(self, len, buffer)\u001b[0m\n\u001b[0;32m    927\u001b[0m         \u001b[1;32mtry\u001b[0m\u001b[1;33m:\u001b[0m\u001b[1;33m\u001b[0m\u001b[1;33m\u001b[0m\u001b[0m\n\u001b[0;32m    928\u001b[0m             \u001b[1;32mif\u001b[0m \u001b[0mbuffer\u001b[0m \u001b[1;32mis\u001b[0m \u001b[1;32mnot\u001b[0m \u001b[1;32mNone\u001b[0m\u001b[1;33m:\u001b[0m\u001b[1;33m\u001b[0m\u001b[1;33m\u001b[0m\u001b[0m\n\u001b[1;32m--> 929\u001b[1;33m                 \u001b[1;32mreturn\u001b[0m \u001b[0mself\u001b[0m\u001b[1;33m.\u001b[0m\u001b[0m_sslobj\u001b[0m\u001b[1;33m.\u001b[0m\u001b[0mread\u001b[0m\u001b[1;33m(\u001b[0m\u001b[0mlen\u001b[0m\u001b[1;33m,\u001b[0m \u001b[0mbuffer\u001b[0m\u001b[1;33m)\u001b[0m\u001b[1;33m\u001b[0m\u001b[1;33m\u001b[0m\u001b[0m\n\u001b[0m\u001b[0;32m    930\u001b[0m             \u001b[1;32melse\u001b[0m\u001b[1;33m:\u001b[0m\u001b[1;33m\u001b[0m\u001b[1;33m\u001b[0m\u001b[0m\n\u001b[0;32m    931\u001b[0m                 \u001b[1;32mreturn\u001b[0m \u001b[0mself\u001b[0m\u001b[1;33m.\u001b[0m\u001b[0m_sslobj\u001b[0m\u001b[1;33m.\u001b[0m\u001b[0mread\u001b[0m\u001b[1;33m(\u001b[0m\u001b[0mlen\u001b[0m\u001b[1;33m)\u001b[0m\u001b[1;33m\u001b[0m\u001b[1;33m\u001b[0m\u001b[0m\n",
      "\u001b[1;31mKeyboardInterrupt\u001b[0m: "
     ]
    }
   ],
   "source": [
    "artist_works = [w for w in artist_works if \"file_url\" in w]\n",
    "allowed_formats = [\".png\", \".jpg\", \".jpeg\"]\n",
    "\n",
    "for work in artist_works:\n",
    "\n",
    "    res = requests.head(work[\"file_url\"])\n",
    "    if res.status_code != 200:\n",
    "        print(f'{work[\"file_url\"]} NOT FOUND')\n",
    "        continue\n",
    "\n",
    "    content_type = res.headers.get('Content-Type')\n",
    "\n",
    "\n",
    "\n",
    "    if content_type.split(\"/\")[0] != \"image\":\n",
    "        print(f'Work: {work[\"work\"]} by {work[\"artist\"]} at {work[\"file_url\"]} is not an image')\n",
    "        continue\n",
    "    # if content_type not in ['image/png', 'image/jpeg']:\n",
    "    #     print(f'Work: {work[\"work\"]} by {work[\"artist\"]} at {work[\"file_url\"]} is not an image')\n",
    "    #     continue\n",
    "\n",
    "    print(f'YO CONTENT TYPE IS {content_type}')\n",
    "\n",
    "    # ext = os.path.splitext(work[\"file_url\"])[1]\n",
    "    \n",
    "    # if ext not in allowed_formats:\n",
    "    #     print(f'Work: {work[\"work\"]} by {work[\"artist\"]} at {work[\"file_url\"]} is not an image')\n",
    "    #     continue\n",
    "\n",
    "    # print(f'Downloading work: {work[\"work\"]} by {work[\"artist\"]} at {work[\"file_url\"]}')\n",
    "    # res = requests.get(work[\"file_url\"])\n",
    "\n",
    "    # if res.status_code == 200:\n",
    "    #     image = Image.open(BytesIO(res.content))\n",
    "    #     plt.figure(figsize=(10, 10))\n",
    "    #     plt.axis(\"off\")\n",
    "    #     plt.imshow(image)\n",
    "    #     plt.show()"
   ]
  },
  {
   "cell_type": "code",
   "execution_count": null,
   "metadata": {},
   "outputs": [],
   "source": []
  }
 ],
 "metadata": {
  "kernelspec": {
   "display_name": "Python 3",
   "language": "python",
   "name": "python3"
  },
  "language_info": {
   "codemirror_mode": {
    "name": "ipython",
    "version": 3
   },
   "file_extension": ".py",
   "mimetype": "text/x-python",
   "name": "python",
   "nbconvert_exporter": "python",
   "pygments_lexer": "ipython3",
   "version": "3.7.9"
  },
  "orig_nbformat": 4
 },
 "nbformat": 4,
 "nbformat_minor": 2
}
