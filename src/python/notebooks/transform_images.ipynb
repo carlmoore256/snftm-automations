{
 "cells": [
  {
   "cell_type": "code",
   "execution_count": 1,
   "metadata": {},
   "outputs": [],
   "source": [
    "%load_ext autoreload\n",
    "%autoreload 2"
   ]
  },
  {
   "cell_type": "code",
   "execution_count": 2,
   "metadata": {},
   "outputs": [],
   "source": [
    "import sys\n",
    "sys.path.append('..')\n",
    "from image.transform import resize_and_rotate"
   ]
  },
  {
   "cell_type": "code",
   "execution_count": 3,
   "metadata": {},
   "outputs": [
    {
     "name": "stdout",
     "output_type": "stream",
     "text": [
      "Wrote files to: ../../../data/render/images/let_your_mind_run_free_kei_ROTATE_0.png | ../../../data/render/images/let_your_mind_run_free_kei_ROTATE_90.png | ../../../data/render/images/let_your_mind_run_free_kei_ROTATE_0_PRE_ROTATE.png | ../../../data/render/images/let_your_mind_run_free_kei_ROTATE_90_PRE_ROTATE.png\n"
     ]
    }
   ],
   "source": [
    "input_img = \"~/Documents/SNFTM/SubconsciousBloom/image/Arrogant_Kei/LetYourMindRunFree.png\"\n",
    "output_img = \"../../../data/render/images/let_your_mind_run_free_kei.png\"\n",
    "resize_and_rotate(input_img, output_img)"
   ]
  },
  {
   "cell_type": "code",
   "execution_count": 10,
   "metadata": {},
   "outputs": [
    {
     "name": "stdout",
     "output_type": "stream",
     "text": [
      "Wrote files to: ../../../data/render/images/where_are_we_going_ROTATE_0.png | ../../../data/render/images/where_are_we_going_ROTATE_90.png\n"
     ]
    }
   ],
   "source": [
    "resize_and_rotate(\"~/Downloads/Licia_He_Art_Assets/where are we going.jpg\", \"../../../data/render/images/where_are_we_going.png\")"
   ]
  },
  {
   "cell_type": "code",
   "execution_count": null,
   "metadata": {},
   "outputs": [],
   "source": []
  }
 ],
 "metadata": {
  "kernelspec": {
   "display_name": "Python 3",
   "language": "python",
   "name": "python3"
  },
  "language_info": {
   "codemirror_mode": {
    "name": "ipython",
    "version": 3
   },
   "file_extension": ".py",
   "mimetype": "text/x-python",
   "name": "python",
   "nbconvert_exporter": "python",
   "pygments_lexer": "ipython3",
   "version": "3.8.2"
  },
  "orig_nbformat": 4
 },
 "nbformat": 4,
 "nbformat_minor": 2
}
