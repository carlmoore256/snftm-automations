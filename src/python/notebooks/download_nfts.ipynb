{
 "cells": [
  {
   "cell_type": "code",
   "execution_count": 1,
   "metadata": {},
   "outputs": [
    {
     "ename": "OSError",
     "evalue": "[Errno 22] Invalid argument: 'https://i.seadn.io/gcs/files/4025a9356532eb9353d385c8e16450b6.png?auto=format&w=1000'",
     "output_type": "error",
     "traceback": [
      "\u001b[1;31m---------------------------------------------------------------------------\u001b[0m",
      "\u001b[1;31mOSError\u001b[0m                                   Traceback (most recent call last)",
      "\u001b[1;32m<ipython-input-1-5d74f6f2fb41>\u001b[0m in \u001b[0;36m<module>\u001b[1;34m\u001b[0m\n\u001b[0;32m      1\u001b[0m \u001b[1;32mfrom\u001b[0m \u001b[0mPIL\u001b[0m \u001b[1;32mimport\u001b[0m \u001b[0mImage\u001b[0m\u001b[1;33m\u001b[0m\u001b[1;33m\u001b[0m\u001b[0m\n\u001b[0;32m      2\u001b[0m \u001b[1;33m\u001b[0m\u001b[0m\n\u001b[1;32m----> 3\u001b[1;33m \u001b[0mImage\u001b[0m\u001b[1;33m.\u001b[0m\u001b[0mopen\u001b[0m\u001b[1;33m(\u001b[0m\u001b[1;34m\"https://i.seadn.io/gcs/files/4025a9356532eb9353d385c8e16450b6.png?auto=format&w=1000\"\u001b[0m\u001b[1;33m)\u001b[0m\u001b[1;33m\u001b[0m\u001b[1;33m\u001b[0m\u001b[0m\n\u001b[0m",
      "\u001b[1;32mc:\\Users\\Carl\\AppData\\Local\\Programs\\Python\\Python37\\lib\\site-packages\\PIL\\Image.py\u001b[0m in \u001b[0;36mopen\u001b[1;34m(fp, mode, formats)\u001b[0m\n\u001b[0;32m   2902\u001b[0m \u001b[1;33m\u001b[0m\u001b[0m\n\u001b[0;32m   2903\u001b[0m     \u001b[1;32mif\u001b[0m \u001b[0mfilename\u001b[0m\u001b[1;33m:\u001b[0m\u001b[1;33m\u001b[0m\u001b[1;33m\u001b[0m\u001b[0m\n\u001b[1;32m-> 2904\u001b[1;33m         \u001b[0mfp\u001b[0m \u001b[1;33m=\u001b[0m \u001b[0mbuiltins\u001b[0m\u001b[1;33m.\u001b[0m\u001b[0mopen\u001b[0m\u001b[1;33m(\u001b[0m\u001b[0mfilename\u001b[0m\u001b[1;33m,\u001b[0m \u001b[1;34m\"rb\"\u001b[0m\u001b[1;33m)\u001b[0m\u001b[1;33m\u001b[0m\u001b[1;33m\u001b[0m\u001b[0m\n\u001b[0m\u001b[0;32m   2905\u001b[0m         \u001b[0mexclusive_fp\u001b[0m \u001b[1;33m=\u001b[0m \u001b[1;32mTrue\u001b[0m\u001b[1;33m\u001b[0m\u001b[1;33m\u001b[0m\u001b[0m\n\u001b[0;32m   2906\u001b[0m \u001b[1;33m\u001b[0m\u001b[0m\n",
      "\u001b[1;31mOSError\u001b[0m: [Errno 22] Invalid argument: 'https://i.seadn.io/gcs/files/4025a9356532eb9353d385c8e16450b6.png?auto=format&w=1000'"
     ]
    }
   ],
   "source": [
    "from PIL import Image\n",
    "\n",
    "Image.open(\"https://i.seadn.io/gcs/files/4025a9356532eb9353d385c8e16450b6.png?auto=format&w=1000\")"
   ]
  },
  {
   "cell_type": "code",
   "execution_count": 1,
   "metadata": {},
   "outputs": [],
   "source": [
    "import os\n",
    "import requests\n",
    "from bs4 import BeautifulSoup\n",
    "import json"
   ]
  },
  {
   "cell_type": "code",
   "execution_count": 4,
   "metadata": {},
   "outputs": [],
   "source": [
    "artist_works_file = \"../../data/artist-works-feb.json\"\n",
    "with open(artist_works_file, 'r') as f:\n",
    "    artist_works = json.load(f)"
   ]
  },
  {
   "cell_type": "code",
   "execution_count": 5,
   "metadata": {},
   "outputs": [
    {
     "name": "stdout",
     "output_type": "stream",
     "text": [
      "Init: GOT RESPONSE FROM https://makersplace.com/0x494e9B8eF3026dD5f1ca2a7aF111A9D0AbD39DAC/sentient-sun-steel-stella-1-of-1-85961/\n",
      "Error: could not find main content in https://makersplace.com/0x494e9B8eF3026dD5f1ca2a7aF111A9D0AbD39DAC/sentient-sun-steel-stella-1-of-1-85961/\n",
      "Init: GOT RESPONSE FROM https://foundation.app/@alidasun/orbits/1\n",
      "Error: could not find main content in https://foundation.app/@alidasun/orbits/1\n",
      "Init: GOT RESPONSE FROM https://opensea.io/assets/ethereum/0xf3a4ece20b4f65948e2e0de16d7e566a5c06f04f/1\n",
      "Error: could not find main content in https://opensea.io/assets/ethereum/0xf3a4ece20b4f65948e2e0de16d7e566a5c06f04f/1\n",
      "Init: GOT RESPONSE FROM https://makersplace.com/karatekid/chromacounterpane-15-aya-1-of-1-81554/\n",
      "Error: could not find main content in https://makersplace.com/karatekid/chromacounterpane-15-aya-1-of-1-81554/\n",
      "Init: GOT RESPONSE FROM https://www.fxhash.xyz/generative/16032\n",
      "GOT RESPONSE FROM https://gateway.fxhash2.xyz/ipfs/QmWMnRSSgt8ZxM4svnRcuDmuHQPe3CzMnuoKWBwBreZFmo\n",
      "Init: GOT RESPONSE FROM https://www.fxhash.xyz/generative/9098\n",
      "Error: could not find main content in https://www.fxhash.xyz/generative/9098\n",
      "Init: GOT RESPONSE FROM https://objkt.com/asset/c-verso/1178\n",
      "Error: could not find main content in https://objkt.com/asset/c-verso/1178\n",
      "Init: GOT RESPONSE FROM https://opensea.io/assets/ethereum/0xa7d8d9ef8d8ce8992df33d8b8cf4aebabd5bd270/282000915\n",
      "Error: could not find main content in https://opensea.io/assets/ethereum/0xa7d8d9ef8d8ce8992df33d8b8cf4aebabd5bd270/282000915\n",
      "Init: GOT RESPONSE FROM https://opensea.io/assets/ethereum/0xa7d8d9ef8d8ce8992df33d8b8cf4aebabd5bd270/282000521\n",
      "Error: could not find main content in https://opensea.io/assets/ethereum/0xa7d8d9ef8d8ce8992df33d8b8cf4aebabd5bd270/282000521\n",
      "Init: GOT RESPONSE FROM https://opensea.io/assets/ethereum/0xa7d8d9ef8d8ce8992df33d8b8cf4aebabd5bd270/282000191\n",
      "Error: could not find main content in https://opensea.io/assets/ethereum/0xa7d8d9ef8d8ce8992df33d8b8cf4aebabd5bd270/282000191\n",
      "Init: GOT RESPONSE FROM https://www.dropbox.com/s/719qxdrp0pd3h2f/Vortex-61.mp4?dl=0\n",
      "Error: could not find main content in https://www.dropbox.com/s/719qxdrp0pd3h2f/Vortex-61.mp4?dl=0\n",
      "Init: GOT RESPONSE FROM https://www.dropbox.com/s/z03k0xczwsfh7t2/Vortex-965.mp4?dl=0\n",
      "Error: could not find main content in https://www.dropbox.com/s/z03k0xczwsfh7t2/Vortex-965.mp4?dl=0\n",
      "Init: GOT RESPONSE FROM https://www.dropbox.com/s/mqz78qn6ro2p0ru/955.mov?dl=0\n",
      "Error: could not find main content in https://www.dropbox.com/s/mqz78qn6ro2p0ru/955.mov?dl=0\n",
      "Init: GOT RESPONSE FROM https://www.dropbox.com/s/s4i6j9f3d0z835x/973.mov?dl=0\n",
      "Error: could not find main content in https://www.dropbox.com/s/s4i6j9f3d0z835x/973.mov?dl=0\n",
      "Init: GOT RESPONSE FROM https://foundation.app/@licia_he/lh-47b1/3\n",
      "Error: could not find main content in https://foundation.app/@licia_he/lh-47b1/3\n",
      "Init: GOT RESPONSE FROM https://foundation.app/@licia_he/lh-47b1/1\n",
      "Error: could not find main content in https://foundation.app/@licia_he/lh-47b1/1\n",
      "Init: GOT RESPONSE FROM https://foundation.app/@licia_he/foundation/128818\n",
      "Error: could not find main content in https://foundation.app/@licia_he/foundation/128818\n",
      "Init: GOT RESPONSE FROM https://foundation.app/@licia_he/lh-47b1/3\n",
      "Error: could not find main content in https://foundation.app/@licia_he/lh-47b1/3\n",
      "Init: GOT RESPONSE FROM https://opensea.io/assets/ethereum/0xa7d8d9ef8d8ce8992df33d8b8cf4aebabd5bd270/213000000\n",
      "Error: could not find main content in https://opensea.io/assets/ethereum/0xa7d8d9ef8d8ce8992df33d8b8cf4aebabd5bd270/213000000\n",
      "Init: GOT RESPONSE FROM https://opensea.io/assets/ethereum/0xa7d8d9ef8d8ce8992df33d8b8cf4aebabd5bd270/213000129\n",
      "Error: could not find main content in https://opensea.io/assets/ethereum/0xa7d8d9ef8d8ce8992df33d8b8cf4aebabd5bd270/213000129\n",
      "Init: GOT RESPONSE FROM https://www.fxhash.xyz/generative/16535\n",
      "Error: could not find main content in https://www.fxhash.xyz/generative/16535\n",
      "Init: GOT RESPONSE FROM https://www.fxhash.xyz/generative/16927\n",
      "Error: could not find main content in https://www.fxhash.xyz/generative/16927\n",
      "Init: GOT RESPONSE FROM https://opensea.io/assets/ethereum/0x259cf26dd6172728c6f8e0e6ae5b16e1b9d65df6/0\n",
      "Error: could not find main content in https://opensea.io/assets/ethereum/0x259cf26dd6172728c6f8e0e6ae5b16e1b9d65df6/0\n",
      "Init: GOT RESPONSE FROM https://opensea.io/assets/ethereum/0x495f947276749ce646f68ac8c248420045cb7b5e/49627714412250459268020911193636266760001820625666130899906076663685446631425\n",
      "Error: could not find main content in https://opensea.io/assets/ethereum/0x495f947276749ce646f68ac8c248420045cb7b5e/49627714412250459268020911193636266760001820625666130899906076663685446631425\n",
      "Init: GOT RESPONSE FROM https://cryptoart.io/artist/monicarizzolli\n",
      "Error: could not find main content in https://cryptoart.io/artist/monicarizzolli\n",
      "Init: GOT RESPONSE FROM https://opensea.io/assets/ethereum/0x0a1bbd57033f57e7b6743621b79fcb9eb2ce3676/20000000\n",
      "Error: could not find main content in https://opensea.io/assets/ethereum/0x0a1bbd57033f57e7b6743621b79fcb9eb2ce3676/20000000\n",
      "Init: GOT RESPONSE FROM https://objkt.com/asset/c-verso/1179\n",
      "Error: could not find main content in https://objkt.com/asset/c-verso/1179\n",
      "Init: GOT RESPONSE FROM https://objkt.com/asset/c-verso/1179\n",
      "Error: could not find main content in https://objkt.com/asset/c-verso/1179\n"
     ]
    }
   ],
   "source": [
    "# Directory to save downloaded NFTs\n",
    "output_dir = 'nfts'\n",
    "\n",
    "# Create the output directory if it doesn't exist\n",
    "if not os.path.exists(output_dir):\n",
    "    os.makedirs(output_dir)\n",
    "\n",
    "# Loop through each NFT URL and download the main content\n",
    "for work in artist_works:\n",
    "    nft_url = work['link']\n",
    "    # Send a GET request to the URL\n",
    "    response = requests.get(nft_url)\n",
    "    print(f'Init: GOT RESPONSE FROM {nft_url}')\n",
    "    # Parse the HTML content using BeautifulSoup\n",
    "    soup = BeautifulSoup(response.content, 'html.parser')\n",
    "    # Find the main content (usually an image) using CSS selectors\n",
    "    content = soup.select_one('main img')\n",
    "    if content is None:\n",
    "        print(f'Error: could not find main content in {nft_url}')\n",
    "        continue\n",
    "    # Extract the URL of the main content\n",
    "    content_url = content['src']\n",
    "    # Construct a filename for the output file\n",
    "    filename = os.path.join(output_dir, f'{os.path.basename(nft_url)}.jpg')\n",
    "    # Send a GET request to the content URL and save the response to a file\n",
    "    response = requests.get(content_url)\n",
    "    print(f'GOT RESPONSE FROM {content_url}')\n",
    "    \n",
    "    # with open(filename, 'wb') as f:\n",
    "    #     f.write(response.content)\n",
    "    # print(f'Successfully downloaded {filename}')\n"
   ]
  }
 ],
 "metadata": {
  "kernelspec": {
   "display_name": "Python 3",
   "language": "python",
   "name": "python3"
  },
  "language_info": {
   "codemirror_mode": {
    "name": "ipython",
    "version": 3
   },
   "file_extension": ".py",
   "mimetype": "text/x-python",
   "name": "python",
   "nbconvert_exporter": "python",
   "pygments_lexer": "ipython3",
   "version": "3.7.9"
  },
  "orig_nbformat": 4,
  "vscode": {
   "interpreter": {
    "hash": "05d2c85d3077d41de06e6e1dfb01b06e840c79a2f2a2c25ded77450375c0d059"
   }
  }
 },
 "nbformat": 4,
 "nbformat_minor": 2
}
