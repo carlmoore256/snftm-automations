{
 "cells": [
  {
   "cell_type": "code",
   "execution_count": 1,
   "metadata": {},
   "outputs": [],
   "source": [
    "%load_ext autoreload\n",
    "%autoreload 2"
   ]
  },
  {
   "cell_type": "code",
   "execution_count": 4,
   "metadata": {},
   "outputs": [],
   "source": [
    "from transcode import transcode_video\n",
    "from defaults import DEFAULT_RESOLUTION\n",
    "from filters import pad_center_native, pad_center_and_resize, rotate, repeat_until_duration\n",
    "from files import output_path\n",
    "from video_info import probe_video_metadata"
   ]
  },
  {
   "cell_type": "code",
   "execution_count": 20,
   "metadata": {},
   "outputs": [
    {
     "name": "stderr",
     "output_type": "stream",
     "text": [
      "ffmpeg version 5.1.2 Copyright (c) 2000-2022 the FFmpeg developers\n",
      "  built with Apple clang version 12.0.0 (clang-1200.0.32.29)\n",
      "  configuration: --prefix=/usr/local/Cellar/ffmpeg/5.1.2 --enable-shared --enable-pthreads --enable-version3 --cc=clang --host-cflags= --host-ldflags= --enable-ffplay --enable-gnutls --enable-gpl --enable-libaom --enable-libbluray --enable-libdav1d --enable-libmp3lame --enable-libopus --enable-librav1e --enable-librist --enable-librubberband --enable-libsnappy --enable-libsrt --enable-libtesseract --enable-libtheora --enable-libvidstab --enable-libvmaf --enable-libvorbis --enable-libvpx --enable-libwebp --enable-libx264 --enable-libx265 --enable-libxml2 --enable-libxvid --enable-lzma --enable-libfontconfig --enable-libfreetype --enable-frei0r --enable-libass --enable-libopencore-amrnb --enable-libopencore-amrwb --enable-libopenjpeg --enable-libspeex --enable-libsoxr --enable-libzmq --enable-libzimg --disable-libjack --disable-indev=jack --enable-videotoolbox\n",
      "  libavutil      57. 28.100 / 57. 28.100\n",
      "  libavcodec     59. 37.100 / 59. 37.100\n",
      "  libavformat    59. 27.100 / 59. 27.100\n",
      "  libavdevice    59.  7.100 / 59.  7.100\n",
      "  libavfilter     8. 44.100 /  8. 44.100\n",
      "  libswscale      6.  7.100 /  6.  7.100\n",
      "  libswresample   4.  7.100 /  4.  7.100\n",
      "  libpostproc    56.  6.100 / 56.  6.100\n",
      "Input #0, mov,mp4,m4a,3gp,3g2,mj2, from '/Users/kalianevan/Downloads/Monica Rizzolli_Fuchsia_2021.mp4':\n",
      "  Metadata:\n",
      "    major_brand     : mp42\n",
      "    minor_version   : 0\n",
      "    compatible_brands: mp42mp41\n",
      "    creation_time   : 2021-03-19T17:03:31.000000Z\n",
      "  Duration: 00:00:25.11, start: 0.000000, bitrate: 9794 kb/s\n",
      "  Stream #0:0[0x1](eng): Video: h264 (Main) (avc1 / 0x31637661), yuv420p(tv, bt709, progressive), 1000x1000 [SAR 1:1 DAR 1:1], 9476 kb/s, 29.97 fps, 29.97 tbr, 30k tbn (default)\n",
      "    Metadata:\n",
      "      creation_time   : 2021-03-19T17:03:31.000000Z\n",
      "      handler_name    : ?Mainconcept Video Media Handler\n",
      "      vendor_id       : [0][0][0][0]\n",
      "      encoder         : AVC Coding\n",
      "  Stream #0:1[0x2](eng): Audio: aac (LC) (mp4a / 0x6134706D), 48000 Hz, stereo, fltp, 317 kb/s (default)\n",
      "    Metadata:\n",
      "      creation_time   : 2021-03-19T17:03:32.000000Z\n",
      "      handler_name    : #Mainconcept MP4 Sound Media Handler\n",
      "      vendor_id       : [0][0][0][0]\n",
      "Stream mapping:\n",
      "  Stream #0:0 (h264) -> scale:default\n",
      "  pad:default -> Stream #0:0 (libx264)\n",
      "Press [q] to stop, [?] for help\n",
      "[libx264 @ 0x7f8ee6d16e40] using SAR=1/1\n",
      "[libx264 @ 0x7f8ee6d16e40] frame MB size (240x135) > level limit (8192)\n",
      "[libx264 @ 0x7f8ee6d16e40] DPB size (4 frames, 129600 mbs) > level limit (1 frames, 32768 mbs)\n",
      "[libx264 @ 0x7f8ee6d16e40] MB rate (971028) > level limit (245760)\n",
      "[libx264 @ 0x7f8ee6d16e40] using cpu capabilities: MMX2 SSE2Fast SSSE3 SSE4.2 AVX\n",
      "[libx264 @ 0x7f8ee6d16e40] profile High, level 4.0, 4:2:0, 8-bit\n",
      "[libx264 @ 0x7f8ee6d16e40] 264 - core 164 r3095 baee400 - H.264/MPEG-4 AVC codec - Copyleft 2003-2022 - http://www.videolan.org/x264.html - options: cabac=1 ref=1 deblock=1:0:0 analyse=0x3:0x113 me=hex subme=7 psy=1 psy_rd=1.00:0.00 mixed_ref=0 me_range=16 chroma_me=1 trellis=1 8x8dct=1 cqm=0 deadzone=21,11 fast_pskip=1 chroma_qp_offset=-2 threads=6 lookahead_threads=1 sliced_threads=0 nr=0 decimate=1 interlaced=0 bluray_compat=0 constrained_intra=0 bframes=3 b_pyramid=2 b_adapt=1 b_bias=0 direct=1 weightb=1 open_gop=0 weightp=2 keyint=250 keyint_min=25 scenecut=40 intra_refresh=0 rc_lookahead=40 rc=abr mbtree=1 bitrate=20000 ratetol=1.0 qcomp=0.60 qpmin=0 qpmax=69 qpstep=4 ip_ratio=1.40 aq=1:1.00\n",
      "Output #0, mp4, to '/Volumes/CoD1/SNFT_Pipeline/data/transcoding/output/PADDED_SCALED_Monica_Rizzolli_Fuchsia_2021.mp4':\n",
      "  Metadata:\n",
      "    major_brand     : mp42\n",
      "    minor_version   : 0\n",
      "    compatible_brands: mp42mp41\n",
      "    encoder         : Lavf59.27.100\n",
      "  Stream #0:0: Video: h264 (avc1 / 0x31637661), yuv420p(tv, bt709, progressive), 3840x2160 [SAR 1:1 DAR 16:9], q=2-31, 20000 kb/s, 29.97 fps, 30k tbn\n",
      "    Metadata:\n",
      "      encoder         : Lavc59.37.100 libx264\n",
      "    Side data:\n",
      "      cpb: bitrate max/min/avg: 0/0/20000000 buffer size: 0 vbv_delay: N/A\n",
      "frame=  751 fps=7.0 q=-1.0 Lsize=   62042kB time=00:00:24.95 bitrate=20364.0kbits/s speed=0.232x    \n",
      "video:62034kB audio:0kB subtitle:0kB other streams:0kB global headers:0kB muxing overhead: 0.014308%\n",
      "[libx264 @ 0x7f8ee6d16e40] frame I:4     Avg QP: 1.94  size:234993\n",
      "[libx264 @ 0x7f8ee6d16e40] frame P:410   Avg QP: 6.18  size:110429\n",
      "[libx264 @ 0x7f8ee6d16e40] frame B:337   Avg QP: 7.70  size: 51353\n",
      "[libx264 @ 0x7f8ee6d16e40] consecutive B-frames: 27.2% 34.9% 12.4% 25.6%\n",
      "[libx264 @ 0x7f8ee6d16e40] mb I  I16..4: 86.4%  6.8%  6.8%\n",
      "[libx264 @ 0x7f8ee6d16e40] mb P  I16..4:  5.4%  2.2%  1.1%  P16..4:  4.6%  3.8%  2.2%  0.0%  0.0%    skip:80.7%\n",
      "[libx264 @ 0x7f8ee6d16e40] mb B  I16..4:  0.5%  0.1%  0.1%  B16..8:  6.1%  2.6%  0.7%  direct: 4.4%  skip:85.5%  L0:38.3% L1:37.8% BI:23.8%\n",
      "[libx264 @ 0x7f8ee6d16e40] final ratefactor: 8.87\n",
      "[libx264 @ 0x7f8ee6d16e40] 8x8 transform intra:23.2% inter:39.9%\n",
      "[libx264 @ 0x7f8ee6d16e40] coded y,uvDC,uvAC intra: 22.9% 59.0% 55.2% inter: 5.1% 10.7% 8.9%\n",
      "[libx264 @ 0x7f8ee6d16e40] i16 v,h,dc,p: 91%  5%  4%  0%\n",
      "[libx264 @ 0x7f8ee6d16e40] i8 v,h,dc,ddl,ddr,vr,hd,vl,hu: 45%  2% 50%  1%  1%  1%  0%  1%  0%\n",
      "[libx264 @ 0x7f8ee6d16e40] i4 v,h,dc,ddl,ddr,vr,hd,vl,hu: 65%  6% 21%  1%  1%  2%  1%  2%  0%\n",
      "[libx264 @ 0x7f8ee6d16e40] i8c dc,h,v,p: 48%  8% 43%  1%\n",
      "[libx264 @ 0x7f8ee6d16e40] Weighted P-Frames: Y:0.0% UV:0.0%\n",
      "[libx264 @ 0x7f8ee6d16e40] kb/s:20279.57\n"
     ]
    }
   ],
   "source": [
    "input_file = '/Users/kalianevan/Downloads/Monica Rizzolli_Fuchsia_2021.mp4'\n",
    "\n",
    "transcode_video(\n",
    "    input_file,\n",
    "    output_file=output_path(input_file, '/Volumes/CoD1/SNFT_Pipeline/data/transcoding/output', prefix='PADDED_SCALED_', extension='mp4'),\n",
    "    filters=[\n",
    "        lambda x: pad_center_and_resize(x, DEFAULT_RESOLUTION, {'width':2000, 'height': 2000}),\n",
    "    ]\n",
    ")"
   ]
  },
  {
   "cell_type": "code",
   "execution_count": 12,
   "metadata": {},
   "outputs": [
    {
     "name": "stdout",
     "output_type": "stream",
     "text": [
      "2000 2000\n"
     ]
    }
   ],
   "source": [
    "input_file = '/Volumes/CoD1/SNFT_Pipeline/data/transcoding/input/alidasunSentientSunSteel.mp4'\n",
    "\n",
    "metadata = probe_video_metadata(input_file)\n",
    "\n",
    "print(metadata['width'], metadata['height'])"
   ]
  },
  {
   "cell_type": "code",
   "execution_count": 3,
   "metadata": {},
   "outputs": [
    {
     "name": "stderr",
     "output_type": "stream",
     "text": [
      "ffmpeg version 5.1.2 Copyright (c) 2000-2022 the FFmpeg developers\n",
      "  built with Apple clang version 12.0.0 (clang-1200.0.32.29)\n",
      "  configuration: --prefix=/usr/local/Cellar/ffmpeg/5.1.2 --enable-shared --enable-pthreads --enable-version3 --cc=clang --host-cflags= --host-ldflags= --enable-ffplay --enable-gnutls --enable-gpl --enable-libaom --enable-libbluray --enable-libdav1d --enable-libmp3lame --enable-libopus --enable-librav1e --enable-librist --enable-librubberband --enable-libsnappy --enable-libsrt --enable-libtesseract --enable-libtheora --enable-libvidstab --enable-libvmaf --enable-libvorbis --enable-libvpx --enable-libwebp --enable-libx264 --enable-libx265 --enable-libxml2 --enable-libxvid --enable-lzma --enable-libfontconfig --enable-libfreetype --enable-frei0r --enable-libass --enable-libopencore-amrnb --enable-libopencore-amrwb --enable-libopenjpeg --enable-libspeex --enable-libsoxr --enable-libzmq --enable-libzimg --disable-libjack --disable-indev=jack --enable-videotoolbox\n",
      "  libavutil      57. 28.100 / 57. 28.100\n",
      "  libavcodec     59. 37.100 / 59. 37.100\n",
      "  libavformat    59. 27.100 / 59. 27.100\n",
      "  libavdevice    59.  7.100 / 59.  7.100\n",
      "  libavfilter     8. 44.100 /  8. 44.100\n",
      "  libswscale      6.  7.100 /  6.  7.100\n",
      "  libswresample   4.  7.100 /  4.  7.100\n",
      "  libpostproc    56.  6.100 / 56.  6.100\n",
      "[mov,mp4,m4a,3gp,3g2,mj2 @ 0x7fcffae2a440] st: 0 edit list: 1 Missing key frame while searching for timestamp: 0\n",
      "[mov,mp4,m4a,3gp,3g2,mj2 @ 0x7fcffae2a440] st: 0 edit list 1 Cannot find an index entry before timestamp: 0.\n",
      "Input #0, mov,mp4,m4a,3gp,3g2,mj2, from '/Volumes/CoD1/SNFT_Pipeline/data/transcoding/input/alidasunSentientSunSteel.mp4':\n",
      "  Metadata:\n",
      "    major_brand     : mp42\n",
      "    minor_version   : 0\n",
      "    compatible_brands: mp42mp41\n",
      "    creation_time   : 2022-01-13T23:07:31.000000Z\n",
      "  Duration: 00:00:18.03, start: 0.000000, bitrate: 237384 kb/s\n",
      "  Stream #0:0[0x1](eng): Video: h264 (Main) (avc1 / 0x31637661), yuv420p(tv, progressive), 2000x2000 [SAR 1:1 DAR 1:1], 237380 kb/s, 51.20 fps, 51.20 tbr, 51200 tbn (default)\n",
      "    Metadata:\n",
      "      creation_time   : 2022-01-13T23:07:31.000000Z\n",
      "      handler_name    : Mainconcept MP4 Video Media Handler\n",
      "      vendor_id       : [0][0][0][0]\n",
      "      encoder         : AVC Coding\n",
      "Stream mapping:\n",
      "  Stream #0:0 (h264) -> rotate:default\n",
      "  pad:default -> Stream #0:0 (libx264)\n",
      "Press [q] to stop, [?] for help\n",
      "[libx264 @ 0x7fcffaf09880] using SAR=1/1\n",
      "[libx264 @ 0x7fcffaf09880] frame MB size (240x135) > level limit (8192)\n",
      "[libx264 @ 0x7fcffaf09880] DPB size (4 frames, 129600 mbs) > level limit (1 frames, 32768 mbs)\n",
      "[libx264 @ 0x7fcffaf09880] MB rate (1658880) > level limit (245760)\n",
      "[libx264 @ 0x7fcffaf09880] using cpu capabilities: MMX2 SSE2Fast SSSE3 SSE4.2 AVX\n",
      "[libx264 @ 0x7fcffaf09880] profile High, level 4.0, 4:2:0, 8-bit\n",
      "[libx264 @ 0x7fcffaf09880] 264 - core 164 r3095 baee400 - H.264/MPEG-4 AVC codec - Copyleft 2003-2022 - http://www.videolan.org/x264.html - options: cabac=1 ref=1 deblock=1:0:0 analyse=0x3:0x113 me=hex subme=7 psy=1 psy_rd=1.00:0.00 mixed_ref=0 me_range=16 chroma_me=1 trellis=1 8x8dct=1 cqm=0 deadzone=21,11 fast_pskip=1 chroma_qp_offset=-2 threads=6 lookahead_threads=1 sliced_threads=0 nr=0 decimate=1 interlaced=0 bluray_compat=0 constrained_intra=0 bframes=3 b_pyramid=2 b_adapt=1 b_bias=0 direct=1 weightb=1 open_gop=0 weightp=2 keyint=250 keyint_min=25 scenecut=40 intra_refresh=0 rc_lookahead=40 rc=abr mbtree=1 bitrate=30000 ratetol=1.0 qcomp=0.60 qpmin=0 qpmax=69 qpstep=4 ip_ratio=1.40 aq=1:1.00\n",
      "Output #0, mp4, to '/Volumes/CoD1/SNFT_Pipeline/data/transcoding/output/PADDED_alidasunSentientSunSteel.mp4':\n",
      "  Metadata:\n",
      "    major_brand     : mp42\n",
      "    minor_version   : 0\n",
      "    compatible_brands: mp42mp41\n",
      "    encoder         : Lavf59.27.100\n",
      "  Stream #0:0: Video: h264 (avc1 / 0x31637661), yuv420p(tv, progressive), 3840x2160 [SAR 1:1 DAR 16:9], q=2-31, 30000 kb/s, 51.20 fps, 16384 tbn\n",
      "    Metadata:\n",
      "      encoder         : Lavc59.37.100 libx264\n",
      "    Side data:\n",
      "      cpb: bitrate max/min/avg: 0/0/30000000 buffer size: 0 vbv_delay: N/A\n",
      "frame=  922 fps=3.8 q=-1.0 Lsize=   66404kB time=00:00:17.94 bitrate=30306.5kbits/s speed=0.0734x         \n",
      "video:66391kB audio:0kB subtitle:0kB other streams:0kB global headers:0kB muxing overhead: 0.018840%\n",
      "[libx264 @ 0x7fcffaf09880] frame I:19    Avg QP:30.36  size:169236\n",
      "[libx264 @ 0x7fcffaf09880] frame P:244   Avg QP:35.43  size:102442\n",
      "[libx264 @ 0x7fcffaf09880] frame B:659   Avg QP:37.43  size: 60353\n",
      "[libx264 @ 0x7fcffaf09880] consecutive B-frames:  2.7%  5.2%  2.3% 89.8%\n",
      "[libx264 @ 0x7fcffaf09880] mb I  I16..4:  9.0% 81.6%  9.4%\n",
      "[libx264 @ 0x7fcffaf09880] mb P  I16..4:  2.3% 21.0%  5.2%  P16..4:  5.1%  2.9%  0.7%  0.0%  0.0%    skip:62.8%\n",
      "[libx264 @ 0x7fcffaf09880] mb B  I16..4:  1.1%  5.4%  1.2%  B16..8: 10.4%  6.5%  1.3%  direct: 1.5%  skip:72.5%  L0:46.1% L1:44.7% BI: 9.1%\n",
      "[libx264 @ 0x7fcffaf09880] final ratefactor: 28.20\n",
      "[libx264 @ 0x7fcffaf09880] 8x8 transform intra:73.4% inter:77.2%\n",
      "[libx264 @ 0x7fcffaf09880] coded y,uvDC,uvAC intra: 65.2% 0.0% 0.0% inter: 9.2% 0.0% 0.0%\n",
      "[libx264 @ 0x7fcffaf09880] i16 v,h,dc,p: 12% 82%  3%  3%\n",
      "[libx264 @ 0x7fcffaf09880] i8 v,h,dc,ddl,ddr,vr,hd,vl,hu: 11% 42% 13%  4%  4%  3% 10%  3% 10%\n",
      "[libx264 @ 0x7fcffaf09880] i4 v,h,dc,ddl,ddr,vr,hd,vl,hu:  7% 58%  6%  3%  7%  3%  9%  2%  5%\n",
      "[libx264 @ 0x7fcffaf09880] i8c dc,h,v,p: 100%  0%  0%  0%\n",
      "[libx264 @ 0x7fcffaf09880] Weighted P-Frames: Y:0.0% UV:0.0%\n",
      "[libx264 @ 0x7fcffaf09880] kb/s:30201.96\n"
     ]
    }
   ],
   "source": [
    "input_file = '/Volumes/CoD1/SNFT_Pipeline/data/transcoding/input/alidasunSentientSunSteel.mp4'\n",
    "\n",
    "transcode_video(\n",
    "    input_file,\n",
    "    filters=[\n",
    "        lambda x: rotate(x, 270),\n",
    "        lambda x: pad_center_native(x, DEFAULT_RESOLUTION),\n",
    "        lambda x: repeat_until_duration()\n",
    "    ],\n",
    "    extension='.mp4',\n",
    "    profile=dict(\n",
    "        vcodec='libx264',\n",
    "        video_bitrate='30M',\n",
    "        level='4.0',\n",
    "    )\n",
    ")"
   ]
  },
  {
   "cell_type": "code",
   "execution_count": 27,
   "metadata": {},
   "outputs": [
    {
     "name": "stderr",
     "output_type": "stream",
     "text": [
      "ffmpeg version 5.1.2 Copyright (c) 2000-2022 the FFmpeg developers\n",
      "  built with Apple clang version 12.0.0 (clang-1200.0.32.29)\n",
      "  configuration: --prefix=/usr/local/Cellar/ffmpeg/5.1.2 --enable-shared --enable-pthreads --enable-version3 --cc=clang --host-cflags= --host-ldflags= --enable-ffplay --enable-gnutls --enable-gpl --enable-libaom --enable-libbluray --enable-libdav1d --enable-libmp3lame --enable-libopus --enable-librav1e --enable-librist --enable-librubberband --enable-libsnappy --enable-libsrt --enable-libtesseract --enable-libtheora --enable-libvidstab --enable-libvmaf --enable-libvorbis --enable-libvpx --enable-libwebp --enable-libx264 --enable-libx265 --enable-libxml2 --enable-libxvid --enable-lzma --enable-libfontconfig --enable-libfreetype --enable-frei0r --enable-libass --enable-libopencore-amrnb --enable-libopencore-amrwb --enable-libopenjpeg --enable-libspeex --enable-libsoxr --enable-libzmq --enable-libzimg --disable-libjack --disable-indev=jack --enable-videotoolbox\n",
      "  libavutil      57. 28.100 / 57. 28.100\n",
      "  libavcodec     59. 37.100 / 59. 37.100\n",
      "  libavformat    59. 27.100 / 59. 27.100\n",
      "  libavdevice    59.  7.100 / 59.  7.100\n",
      "  libavfilter     8. 44.100 /  8. 44.100\n",
      "  libswscale      6.  7.100 /  6.  7.100\n",
      "  libswresample   4.  7.100 /  4.  7.100\n",
      "  libpostproc    56.  6.100 / 56.  6.100\n",
      "[mov,mp4,m4a,3gp,3g2,mj2 @ 0x7fed16d050c0] st: 0 edit list: 1 Missing key frame while searching for timestamp: 0\n",
      "[mov,mp4,m4a,3gp,3g2,mj2 @ 0x7fed16d050c0] st: 0 edit list 1 Cannot find an index entry before timestamp: 0.\n",
      "Input #0, mov,mp4,m4a,3gp,3g2,mj2, from '/Volumes/CoD1/SNFT_Pipeline/data/transcoding/input/alidasunSonnensinnspektrum.mp4':\n",
      "  Metadata:\n",
      "    major_brand     : mp42\n",
      "    minor_version   : 0\n",
      "    compatible_brands: mp42mp41\n",
      "    creation_time   : 2021-12-03T22:58:23.000000Z\n",
      "  Duration: 00:00:25.05, start: 0.000000, bitrate: 87041 kb/s\n",
      "  Stream #0:0[0x1](eng): Video: h264 (Main) (avc1 / 0x31637661), yuv420p(tv, progressive), 1280x1440 [SAR 1:1 DAR 8:9], 87034 kb/s, 60 fps, 60 tbr, 60k tbn (default)\n",
      "    Metadata:\n",
      "      creation_time   : 2021-12-03T22:58:23.000000Z\n",
      "      handler_name    : Mainconcept MP4 Video Media Handler\n",
      "      vendor_id       : [0][0][0][0]\n",
      "      encoder         : AVC Coding\n",
      "Stream mapping:\n",
      "  Stream #0:0 (h264) -> rotate:default\n",
      "  pad:default -> Stream #0:0 (libx264)\n",
      "Press [q] to stop, [?] for help\n",
      "[libx264 @ 0x7fed16c2de40] using SAR=8/9\n",
      "[libx264 @ 0x7fed16c2de40] frame MB size (240x135) > level limit (8192)\n",
      "[libx264 @ 0x7fed16c2de40] DPB size (4 frames, 129600 mbs) > level limit (1 frames, 32768 mbs)\n",
      "[libx264 @ 0x7fed16c2de40] MB rate (1944000) > level limit (245760)\n",
      "[libx264 @ 0x7fed16c2de40] using cpu capabilities: MMX2 SSE2Fast SSSE3 SSE4.2 AVX\n",
      "[libx264 @ 0x7fed16c2de40] profile High, level 4.0, 4:2:0, 8-bit\n",
      "[libx264 @ 0x7fed16c2de40] 264 - core 164 r3095 baee400 - H.264/MPEG-4 AVC codec - Copyleft 2003-2022 - http://www.videolan.org/x264.html - options: cabac=1 ref=1 deblock=1:0:0 analyse=0x3:0x113 me=hex subme=7 psy=1 psy_rd=1.00:0.00 mixed_ref=0 me_range=16 chroma_me=1 trellis=1 8x8dct=1 cqm=0 deadzone=21,11 fast_pskip=1 chroma_qp_offset=-2 threads=6 lookahead_threads=1 sliced_threads=0 nr=0 decimate=1 interlaced=0 bluray_compat=0 constrained_intra=0 bframes=3 b_pyramid=2 b_adapt=1 b_bias=0 direct=1 weightb=1 open_gop=0 weightp=2 keyint=250 keyint_min=25 scenecut=40 intra_refresh=0 rc_lookahead=40 rc=abr mbtree=1 bitrate=20000 ratetol=1.0 qcomp=0.60 qpmin=0 qpmax=69 qpstep=4 ip_ratio=1.40 aq=1:1.00\n",
      "Output #0, matroska, to '/Volumes/CoD1/SNFT_Pipeline/data/transcoding/output/PADDED_alidasunSonnensinnspektrum.mkv':\n",
      "  Metadata:\n",
      "    major_brand     : mp42\n",
      "    minor_version   : 0\n",
      "    compatible_brands: mp42mp41\n",
      "    encoder         : Lavf59.27.100\n",
      "  Stream #0:0: Video: h264 (H264 / 0x34363248), yuv420p(tv, progressive), 3840x2160 [SAR 8:9 DAR 128:81], q=2-31, 20000 kb/s, 60 fps, 1k tbn\n",
      "    Metadata:\n",
      "      encoder         : Lavc59.37.100 libx264\n",
      "    Side data:\n",
      "      cpb: bitrate max/min/avg: 0/0/20000000 buffer size: 0 vbv_delay: N/A\n",
      "frame= 1502 fps=4.9 q=-1.0 Lsize=   61171kB time=00:00:24.98 bitrate=20057.2kbits/s speed=0.0816x    \n",
      "video:61158kB audio:0kB subtitle:0kB other streams:0kB global headers:0kB muxing overhead: 0.019985%\n",
      "[libx264 @ 0x7fed16c2de40] frame I:16    Avg QP:23.11  size:207434\n",
      "[libx264 @ 0x7fed16c2de40] frame P:381   Avg QP:25.69  size: 98208\n",
      "[libx264 @ 0x7fed16c2de40] frame B:1105  Avg QP:26.76  size: 19809\n",
      "[libx264 @ 0x7fed16c2de40] consecutive B-frames:  1.5%  0.4%  2.2% 95.9%\n",
      "[libx264 @ 0x7fed16c2de40] mb I  I16..4:  9.9% 85.3%  4.8%\n",
      "[libx264 @ 0x7fed16c2de40] mb P  I16..4:  1.4%  8.9%  0.5%  P16..4: 19.7%  9.3%  1.9%  0.0%  0.0%    skip:58.3%\n",
      "[libx264 @ 0x7fed16c2de40] mb B  I16..4:  0.1%  0.4%  0.0%  B16..8:  8.5%  1.8%  0.2%  direct: 1.1%  skip:87.9%  L0:41.3% L1:51.0% BI: 7.8%\n",
      "[libx264 @ 0x7fed16c2de40] final ratefactor: 21.36\n",
      "[libx264 @ 0x7fed16c2de40] 8x8 transform intra:82.8% inter:84.2%\n",
      "[libx264 @ 0x7fed16c2de40] coded y,uvDC,uvAC intra: 59.8% 72.3% 41.8% inter: 7.9% 9.8% 1.0%\n",
      "[libx264 @ 0x7fed16c2de40] i16 v,h,dc,p: 21% 55%  4% 19%\n",
      "[libx264 @ 0x7fed16c2de40] i8 v,h,dc,ddl,ddr,vr,hd,vl,hu: 13% 25% 19%  6%  7%  5% 11%  5%  9%\n",
      "[libx264 @ 0x7fed16c2de40] i4 v,h,dc,ddl,ddr,vr,hd,vl,hu:  9% 46%  9%  4%  9%  4% 11%  2%  5%\n",
      "[libx264 @ 0x7fed16c2de40] i8c dc,h,v,p: 39% 39%  8% 14%\n",
      "[libx264 @ 0x7fed16c2de40] Weighted P-Frames: Y:0.0% UV:0.0%\n",
      "[libx264 @ 0x7fed16c2de40] kb/s:20013.49\n"
     ]
    }
   ],
   "source": [
    "# output_path(input_file, '/Volumes/CoD1/SNFT_Pipeline/data/transcoding/output', prefix='PADDED_SCALED_', extension='mp4')\n",
    "transcode_video(\n",
    "    input_file,\n",
    "    filters=[\n",
    "        lambda x: rotate(x, 270),\n",
    "        lambda x: pad_center_and_resize(x, DEFAULT_RESOLUTION, {'width':2000, 'height': 2000}),\n",
    "    ],\n",
    "    extension='mkv'\n",
    ")"
   ]
  },
  {
   "cell_type": "code",
   "execution_count": 1,
   "metadata": {},
   "outputs": [],
   "source": [
    "from utils import closest_resolution_multiple"
   ]
  },
  {
   "cell_type": "code",
   "execution_count": 9,
   "metadata": {},
   "outputs": [
    {
     "name": "stdout",
     "output_type": "stream",
     "text": [
      "{'width': 6000, 'height': 3000}\n"
     ]
    }
   ],
   "source": [
    "res = closest_resolution_multiple(\n",
    "    original_resolution={'width': 6000, 'height': 3000}, \n",
    "    target_resolution={'width': 3840, 'height': 2160}\n",
    ")\n",
    "\n",
    "print(res)"
   ]
  },
  {
   "cell_type": "code",
   "execution_count": null,
   "metadata": {},
   "outputs": [],
   "source": []
  }
 ],
 "metadata": {
  "kernelspec": {
   "display_name": "Python 3",
   "language": "python",
   "name": "python3"
  },
  "language_info": {
   "codemirror_mode": {
    "name": "ipython",
    "version": 3
   },
   "file_extension": ".py",
   "mimetype": "text/x-python",
   "name": "python",
   "nbconvert_exporter": "python",
   "pygments_lexer": "ipython3",
   "version": "3.8.2"
  },
  "orig_nbformat": 4
 },
 "nbformat": 4,
 "nbformat_minor": 2
}
